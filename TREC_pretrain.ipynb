{
 "cells": [
  {
   "cell_type": "code",
   "execution_count": 2,
   "metadata": {},
   "outputs": [],
   "source": [
    "# Load Pretrained Model\n",
    "# w2v_model = KeyedVectors.load_word2vec_format(\n",
    "#     'models/pretrained/GoogleNews-vectors-negative300.bin', binary=True)\n",
    "# w2v_model.save('models/pretrained/word2vec_model.gensim')\n"
   ]
  },
  {
   "cell_type": "code",
   "execution_count": 3,
   "metadata": {},
   "outputs": [
    {
     "name": "stderr",
     "output_type": "stream",
     "text": [
      "2023-11-10 18:15:56.775185: I tensorflow/core/platform/cpu_feature_guard.cc:182] This TensorFlow binary is optimized to use available CPU instructions in performance-critical operations.\n",
      "To enable the following instructions: AVX2 FMA, in other operations, rebuild TensorFlow with the appropriate compiler flags.\n"
     ]
    },
    {
     "name": "stdout",
     "output_type": "stream",
     "text": [
      "Training Size:  4952\n",
      "Development Size:  500\n",
      "Test Size:  500\n"
     ]
    }
   ],
   "source": [
    "import json\n",
    "import numpy as np\n",
    "import pandas as pd\n",
    "from gensim.models import KeyedVectors\n",
    "from tensorflow.keras.preprocessing.text import Tokenizer\n",
    "\n",
    "# Load dataset\n",
    "dev_df = pd.read_csv('TREC_dataset/dev.csv')\n",
    "train_df = pd.read_csv('TREC_dataset/train.csv')\n",
    "test_df = pd.read_csv('TREC_dataset/test.csv')\n",
    "\n",
    "print(\"Training Size: \", train_df.shape[0])\n",
    "print(\"Development Size: \", dev_df.shape[0])\n",
    "print(\"Test Size: \", test_df.shape[0])\n",
    "\n",
    "# Load pre-trained Word2Vec model\n",
    "model_path = 'models/pretrained/word2vec_model.gensim'\n",
    "word2vec_model = KeyedVectors.load(model_path)\n",
    "\n",
    "# Combine text data from train, validation, and test sets\n",
    "combined_texts = pd.concat([train_df['text'], dev_df['text'], test_df['text']])\n",
    "\n",
    "# Initialize tokenizer\n",
    "tokenizer = Tokenizer(filters='')\n",
    "\n",
    "# Fit tokenizer on combined text data\n",
    "tokenizer.fit_on_texts(combined_texts)\n",
    "\n",
    "# Create a reduced embedding matrix\n",
    "vocab_size = len(tokenizer.word_index) + 1  # +1 for padding token\n",
    "embedding_dim = word2vec_model.vector_size\n",
    "embedding_matrix = np.zeros((vocab_size, embedding_dim))\n",
    "\n",
    "for word, i in tokenizer.word_index.items():\n",
    "    if word in word2vec_model.key_to_index:\n",
    "        embedding_vector = word2vec_model[word]\n",
    "        embedding_matrix[i] = embedding_vector\n",
    "\n",
    "# Save embedding matrix and tokenizer\n",
    "np.save('models/pretrained/embedding_matrix.npy', embedding_matrix)\n",
    "\n",
    "# Save tokenizer\n",
    "tokenizer_json = tokenizer.to_json()\n",
    "with open('models/pretrained/tokenizer.json', 'w', encoding='utf-8') as f:\n",
    "    f.write(json.dumps(tokenizer_json, ensure_ascii=False))"
   ]
  },
  {
   "cell_type": "code",
   "execution_count": null,
   "metadata": {},
   "outputs": [],
   "source": []
  }
 ],
 "metadata": {
  "kernelspec": {
   "display_name": "Python 3",
   "language": "python",
   "name": "python3"
  },
  "language_info": {
   "codemirror_mode": {
    "name": "ipython",
    "version": 3
   },
   "file_extension": ".py",
   "mimetype": "text/x-python",
   "name": "python",
   "nbconvert_exporter": "python",
   "pygments_lexer": "ipython3",
   "version": "3.10.13"
  }
 },
 "nbformat": 4,
 "nbformat_minor": 2
}
