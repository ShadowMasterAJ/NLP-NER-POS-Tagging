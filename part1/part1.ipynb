{
 "cells": [
  {
   "cell_type": "code",
   "execution_count": 1,
   "metadata": {},
   "outputs": [],
   "source": [
    "import pandas as pd\n",
    "import os\n",
    "import gensim.downloader\n",
    "from gensim.models import Word2Vec, KeyedVectors\n",
    "import tensorflow as tf\n",
    "import numpy as np\n",
    "\n",
    "from keras import Model, Input\n",
    "from keras.layers import LSTM, Embedding, Dense\n",
    "from keras.layers import InputLayer\n",
    "from tensorflow import keras\n",
    "from keras.preprocessing.sequence import pad_sequences\n",
    "from keras.preprocessing.text import Tokenizer\n",
    "from keras.utils import to_categorical\n",
    "from keras.callbacks import EarlyStopping\n",
    "from keras import regularizers\n",
    "from keras.layers import Dropout\n",
    "from keras.callbacks import EarlyStopping"
   ]
  },
  {
   "cell_type": "markdown",
   "metadata": {},
   "source": [
    "#### Train word2vec model"
   ]
  },
  {
   "cell_type": "code",
   "execution_count": 2,
   "metadata": {},
   "outputs": [],
   "source": [
    "def getSentences(path):\n",
    "    file_path = path\n",
    "    sentences = []\n",
    "    current_sentence = []\n",
    "    try:\n",
    "        with open(file_path, 'r') as file:\n",
    "            for line in file:\n",
    "                if line.strip():\n",
    "                    word = line.split()[0]\n",
    "                    current_sentence.append(word)\n",
    "                else:\n",
    "                    if current_sentence:\n",
    "                        sentences.append(current_sentence)\n",
    "                    current_sentence = []\n",
    "            if current_sentence:\n",
    "                sentences.append(current_sentence)\n",
    "            return sentences\n",
    "    except FileNotFoundError:\n",
    "        print(f\"File '{file_path}' not found.\")\n",
    "    except Exception as e:\n",
    "        print(f\"An error occurred: {e}\")\n",
    "\n",
    "def getTags(path):\n",
    "    file_path = path\n",
    "    tags = []\n",
    "    current_sentence = []\n",
    "    try:\n",
    "        with open(file_path, 'r') as file:\n",
    "            for line in file:\n",
    "                if line.strip():\n",
    "                    tag = line.split()[3]\n",
    "                    current_sentence.append(tag)\n",
    "                else:\n",
    "                    if current_sentence:\n",
    "                        tags.append(current_sentence)\n",
    "                    current_sentence = []\n",
    "            if current_sentence:\n",
    "                tags.append(current_sentence)\n",
    "            return tags\n",
    "    except FileNotFoundError:\n",
    "        print(f\"File '{file_path}' not found.\")\n",
    "    except Exception as e:\n",
    "        print(f\"An error occurred: {e}\")"
   ]
  },
  {
   "cell_type": "code",
   "execution_count": 3,
   "metadata": {},
   "outputs": [],
   "source": [
    "train_sentences = getSentences('./data/eng.train')\n",
    "train_tags = getTags('./data/eng.train')"
   ]
  },
  {
   "cell_type": "code",
   "execution_count": 4,
   "metadata": {},
   "outputs": [],
   "source": [
    "train_w2v = Word2Vec(train_sentences, vector_size=100, window=5, min_count=1, workers=4)"
   ]
  },
  {
   "cell_type": "markdown",
   "metadata": {},
   "source": [
    "#### Load w2v Model"
   ]
  },
  {
   "cell_type": "code",
   "execution_count": 5,
   "metadata": {},
   "outputs": [],
   "source": [
    "w2v = gensim.downloader.load(\"word2vec-google-news-300\")"
   ]
  },
  {
   "cell_type": "markdown",
   "metadata": {},
   "source": [
    "#### Preprocess Train, Development and Test Data"
   ]
  },
  {
   "cell_type": "code",
   "execution_count": 6,
   "metadata": {},
   "outputs": [],
   "source": [
    "train_path = './data/eng.train'\n",
    "development_path = './data/eng.testa'\n",
    "test_path = './data/eng.testb'"
   ]
  },
  {
   "cell_type": "code",
   "execution_count": 7,
   "metadata": {},
   "outputs": [],
   "source": [
    "def get_data(path):\n",
    "    try:\n",
    "        with open(path, 'r') as file:\n",
    "            data = file.readlines()\n",
    "        file.close()\n",
    "    except Exception as e:\n",
    "        data = None\n",
    "        print(e)\n",
    "    \n",
    "    return data"
   ]
  },
  {
   "cell_type": "code",
   "execution_count": 8,
   "metadata": {},
   "outputs": [],
   "source": [
    "train_data = get_data(train_path)\n",
    "development_data = get_data(development_path)\n",
    "test_data = get_data(test_path)"
   ]
  },
  {
   "cell_type": "code",
   "execution_count": 9,
   "metadata": {},
   "outputs": [],
   "source": [
    "def extract_sentences(data):\n",
    "    split_data = [line.split(' ') for line in data] if data != None else []\n",
    "    sentences = []\n",
    "    current_sentence = []\n",
    "    for line in split_data:\n",
    "        if line == ['\\n']:\n",
    "            sentences.append(current_sentence)\n",
    "            current_sentence = []\n",
    "        else:\n",
    "            word = line[0]\n",
    "            tag = line[-1].replace('\\n', '')\n",
    "            current_sentence.append([word, tag])\n",
    "    sentences.append(current_sentence)\n",
    "    return sentences\n",
    "\n",
    "def extract_words_and_tags(data):\n",
    "    words = []\n",
    "    tags = []\n",
    "    for line in data:\n",
    "        parts = line.split()\n",
    "        if parts:\n",
    "            word = parts[0]\n",
    "            tag = parts[-1]\n",
    "            words.append(word)\n",
    "            tags.append(tag)\n",
    "    return words, tags"
   ]
  },
  {
   "cell_type": "code",
   "execution_count": 10,
   "metadata": {},
   "outputs": [],
   "source": [
    "train_sentences = extract_sentences(train_data)\n",
    "train_words, train_tags = extract_words_and_tags(train_data)\n",
    "development_sentences = extract_sentences(development_data)\n",
    "development_words, development_tags = extract_words_and_tags(development_data)\n",
    "test_sentences = extract_sentences(test_data)\n",
    "test_words, test_tags = extract_words_and_tags(test_data)"
   ]
  },
  {
   "cell_type": "code",
   "execution_count": 11,
   "metadata": {},
   "outputs": [],
   "source": [
    "train_voc = np.unique(np.array(train_words))\n",
    "dev_voc = np.unique(np.array(development_words))\n",
    "tag_set = np.unique(np.array(train_tags))"
   ]
  },
  {
   "cell_type": "code",
   "execution_count": 12,
   "metadata": {},
   "outputs": [
    {
     "data": {
      "text/plain": [
       "array(['B-LOC', 'B-MISC', 'B-ORG', 'I-LOC', 'I-MISC', 'I-ORG', 'I-PER',\n",
       "       'O'], dtype='<U6')"
      ]
     },
     "execution_count": 12,
     "metadata": {},
     "output_type": "execute_result"
    }
   ],
   "source": [
    "tag_set"
   ]
  },
  {
   "cell_type": "code",
   "execution_count": 13,
   "metadata": {},
   "outputs": [
    {
     "name": "stdout",
     "output_type": "stream",
     "text": [
      "Number of sentences (training): 14987\n",
      "Number of sentences (dev): 3466\n",
      "Number of sentences (test): 3684\n"
     ]
    }
   ],
   "source": [
    "print(\"Number of sentences (training):\", len(train_sentences))\n",
    "print(\"Number of sentences (dev):\", len(development_sentences))\n",
    "print(\"Number of sentences (test):\", len(test_sentences))"
   ]
  },
  {
   "cell_type": "code",
   "execution_count": 14,
   "metadata": {},
   "outputs": [
    {
     "name": "stdout",
     "output_type": "stream",
     "text": [
      "Tag set (BIO): ['B-LOC' 'B-MISC' 'B-ORG' 'I-LOC' 'I-MISC' 'I-ORG' 'I-PER' 'O']\n"
     ]
    }
   ],
   "source": [
    "print(\"Tag set (BIO):\", tag_set)"
   ]
  },
  {
   "cell_type": "code",
   "execution_count": 15,
   "metadata": {},
   "outputs": [],
   "source": [
    "# train_pretrained_weights = train_w2v.wv.vectors\n",
    "# train_num_tokens, train_embedding_dim = train_pretrained_weights.shape\n",
    "\n",
    "# word2idx = train_w2v.wv.key_to_index\n",
    "# word2idx['<UNK>'] = word2idx[list(word2idx.keys())[-1]]+1\n",
    "# word2idx['<PAD>'] = word2idx[list(word2idx.keys())[-1]]+1\n",
    "\n",
    "# voc = train_voc\n",
    "# voc = np.append(voc,'<UNK>')\n",
    "# voc = np.append(voc,'<PAD>')\n",
    "\n",
    "# tag2idx = {k: v for v, k in enumerate(tag_set)}"
   ]
  },
  {
   "cell_type": "code",
   "execution_count": 16,
   "metadata": {},
   "outputs": [],
   "source": [
    "train_pretrained_weights = w2v.vectors\n",
    "train_num_tokens, train_embedding_dim = train_pretrained_weights.shape\n",
    "\n",
    "word2idx = w2v.key_to_index\n",
    "word2idx['<UNK>'] = word2idx[list(word2idx.keys())[-1]]+1\n",
    "word2idx['<PAD>'] = word2idx[list(word2idx.keys())[-1]]+1\n",
    "voc = word2idx.keys()\n",
    "# voc = np.append(voc,'<UNK>')\n",
    "# voc = np.append(voc,'<PAD>')\n",
    "\n",
    "tag2idx = {k: v for v, k in enumerate(tag_set)}\n"
   ]
  },
  {
   "cell_type": "code",
   "execution_count": 17,
   "metadata": {},
   "outputs": [
    {
     "data": {
      "text/plain": [
       "3000000"
      ]
     },
     "execution_count": 17,
     "metadata": {},
     "output_type": "execute_result"
    }
   ],
   "source": [
    "word2idx['<UNK>']"
   ]
  },
  {
   "cell_type": "code",
   "execution_count": 18,
   "metadata": {},
   "outputs": [
    {
     "name": "stdout",
     "output_type": "stream",
     "text": [
      "3000004\n",
      "Tressel\n"
     ]
    }
   ],
   "source": [
    "num_tokens = len(voc) + 2\n",
    "embedding_dim = 50\n",
    "print(num_tokens)\n",
    "for key in word2idx:\n",
    "    if(word2idx[key] == 23629):\n",
    "        print(key)"
   ]
  },
  {
   "cell_type": "code",
   "execution_count": 19,
   "metadata": {},
   "outputs": [],
   "source": [
    "def get_x_embeddings(sentences):\n",
    "  sequence = []\n",
    "  sent_seq = []\n",
    "  for s in sentences:\n",
    "    for w in s:\n",
    "      if w[0] in word2idx.keys():\n",
    "        sent_seq.append(word2idx[w[0]])\n",
    "      else:\n",
    "        sent_seq.append(word2idx['<UNK>'])\n",
    "    sequence.append(sent_seq)\n",
    "    sent_seq = []\n",
    "  return sequence"
   ]
  },
  {
   "cell_type": "code",
   "execution_count": 20,
   "metadata": {},
   "outputs": [],
   "source": [
    "x_train = get_x_embeddings(train_sentences)\n",
    "y_train = [[tag2idx[w[1]] for w in s] for s in train_sentences]\n",
    "x_dev = get_x_embeddings(development_sentences)\n",
    "y_dev = [[tag2idx[w[1]] for w in s] for s in development_sentences]\n",
    "x_test = get_x_embeddings(test_sentences)\n",
    "y_test = [[tag2idx[w[1]] for w in s] for s in test_sentences]\n",
    "\n",
    "x_train = pad_sequences(maxlen=embedding_dim, sequences=x_train, padding=\"post\")\n",
    "y_train = pad_sequences(maxlen=embedding_dim, sequences=y_train, padding=\"post\", value=tag2idx['O'])\n",
    "x_dev = pad_sequences(maxlen=embedding_dim, sequences=x_dev, padding=\"post\")\n",
    "y_dev = pad_sequences(maxlen=embedding_dim, sequences=y_dev, padding=\"post\", value=tag2idx['O'])\n",
    "x_test = pad_sequences(maxlen=embedding_dim, sequences=x_test, padding=\"post\")\n",
    "y_test = pad_sequences(maxlen=embedding_dim, sequences=y_test, padding=\"post\", value=tag2idx['O'])\n",
    "\n",
    "y_train = to_categorical(y_train)\n",
    "y_dev = to_categorical(y_dev)\n",
    "y_test = to_categorical(y_test)"
   ]
  },
  {
   "cell_type": "code",
   "execution_count": 27,
   "metadata": {},
   "outputs": [
    {
     "data": {
      "text/plain": [
       "(14987, 50)"
      ]
     },
     "execution_count": 27,
     "metadata": {},
     "output_type": "execute_result"
    }
   ],
   "source": [
    "x_train.shape\n",
    "#y_train.shape"
   ]
  },
  {
   "cell_type": "code",
   "execution_count": 69,
   "metadata": {},
   "outputs": [
    {
     "name": "stderr",
     "output_type": "stream",
     "text": [
      "WARNING:absl:At this time, the v2.11+ optimizer `tf.keras.optimizers.Adagrad` runs slowly on M1/M2 Macs, please use the legacy Keras optimizer instead, located at `tf.keras.optimizers.legacy.Adagrad`.\n"
     ]
    },
    {
     "name": "stdout",
     "output_type": "stream",
     "text": [
      "Epoch 1/1000\n",
      "300/300 [==============================] - 5s 11ms/step - loss: 2.0701 - accuracy: 0.3583 - val_loss: 2.0610 - val_accuracy: 0.6201\n",
      "Epoch 2/1000\n",
      "300/300 [==============================] - 3s 10ms/step - loss: 2.0527 - accuracy: 0.7475 - val_loss: 2.0450 - val_accuracy: 0.7980\n",
      "Epoch 3/1000\n",
      "300/300 [==============================] - 3s 11ms/step - loss: 2.0371 - accuracy: 0.8312 - val_loss: 2.0297 - val_accuracy: 0.8573\n",
      "Epoch 4/1000\n",
      "300/300 [==============================] - 3s 10ms/step - loss: 2.0217 - accuracy: 0.8735 - val_loss: 2.0141 - val_accuracy: 0.8720\n",
      "Epoch 5/1000\n",
      "300/300 [==============================] - 3s 11ms/step - loss: 2.0052 - accuracy: 0.8753 - val_loss: 1.9966 - val_accuracy: 0.8719\n",
      "Epoch 6/1000\n",
      "232/300 [======================>.......] - ETA: 0s - loss: 1.9884 - accuracy: 0.8746"
     ]
    },
    {
     "ename": "KeyboardInterrupt",
     "evalue": "",
     "output_type": "error",
     "traceback": [
      "\u001b[0;31m---------------------------------------------------------------------------\u001b[0m",
      "\u001b[0;31mKeyboardInterrupt\u001b[0m                         Traceback (most recent call last)",
      "\u001b[1;32m/Users/sashank/Desktop/NLP/NLP_Assignment/part1/part1.ipynb Cell 25\u001b[0m line \u001b[0;36m2\n\u001b[1;32m     <a href='vscode-notebook-cell:/Users/sashank/Desktop/NLP/NLP_Assignment/part1/part1.ipynb#X41sZmlsZQ%3D%3D?line=25'>26</a>\u001b[0m early_stopping \u001b[39m=\u001b[39m EarlyStopping(patience\u001b[39m=\u001b[39m\u001b[39m10\u001b[39m)\n\u001b[1;32m     <a href='vscode-notebook-cell:/Users/sashank/Desktop/NLP/NLP_Assignment/part1/part1.ipynb#X41sZmlsZQ%3D%3D?line=26'>27</a>\u001b[0m \u001b[39m# Training (replace with your data)\u001b[39;00m\n\u001b[0;32m---> <a href='vscode-notebook-cell:/Users/sashank/Desktop/NLP/NLP_Assignment/part1/part1.ipynb#X41sZmlsZQ%3D%3D?line=27'>28</a>\u001b[0m model\u001b[39m.\u001b[39;49mfit(x_train, y_train, batch_size\u001b[39m=\u001b[39;49mbatch_size, epochs\u001b[39m=\u001b[39;49mnum_epochs, shuffle\u001b[39m=\u001b[39;49m\u001b[39mTrue\u001b[39;49;00m, validation_data\u001b[39m=\u001b[39;49m(x_dev, y_dev),\n\u001b[1;32m     <a href='vscode-notebook-cell:/Users/sashank/Desktop/NLP/NLP_Assignment/part1/part1.ipynb#X41sZmlsZQ%3D%3D?line=28'>29</a>\u001b[0m          callbacks \u001b[39m=\u001b[39;49m early_stopping, workers \u001b[39m=\u001b[39;49m \u001b[39m4\u001b[39;49m)\n",
      "File \u001b[0;32m/opt/homebrew/lib/python3.11/site-packages/keras/src/utils/traceback_utils.py:65\u001b[0m, in \u001b[0;36mfilter_traceback.<locals>.error_handler\u001b[0;34m(*args, **kwargs)\u001b[0m\n\u001b[1;32m     63\u001b[0m filtered_tb \u001b[39m=\u001b[39m \u001b[39mNone\u001b[39;00m\n\u001b[1;32m     64\u001b[0m \u001b[39mtry\u001b[39;00m:\n\u001b[0;32m---> 65\u001b[0m     \u001b[39mreturn\u001b[39;00m fn(\u001b[39m*\u001b[39;49margs, \u001b[39m*\u001b[39;49m\u001b[39m*\u001b[39;49mkwargs)\n\u001b[1;32m     66\u001b[0m \u001b[39mexcept\u001b[39;00m \u001b[39mException\u001b[39;00m \u001b[39mas\u001b[39;00m e:\n\u001b[1;32m     67\u001b[0m     filtered_tb \u001b[39m=\u001b[39m _process_traceback_frames(e\u001b[39m.\u001b[39m__traceback__)\n",
      "File \u001b[0;32m/opt/homebrew/lib/python3.11/site-packages/keras/src/engine/training.py:1783\u001b[0m, in \u001b[0;36mModel.fit\u001b[0;34m(self, x, y, batch_size, epochs, verbose, callbacks, validation_split, validation_data, shuffle, class_weight, sample_weight, initial_epoch, steps_per_epoch, validation_steps, validation_batch_size, validation_freq, max_queue_size, workers, use_multiprocessing)\u001b[0m\n\u001b[1;32m   1775\u001b[0m \u001b[39mwith\u001b[39;00m tf\u001b[39m.\u001b[39mprofiler\u001b[39m.\u001b[39mexperimental\u001b[39m.\u001b[39mTrace(\n\u001b[1;32m   1776\u001b[0m     \u001b[39m\"\u001b[39m\u001b[39mtrain\u001b[39m\u001b[39m\"\u001b[39m,\n\u001b[1;32m   1777\u001b[0m     epoch_num\u001b[39m=\u001b[39mepoch,\n\u001b[0;32m   (...)\u001b[0m\n\u001b[1;32m   1780\u001b[0m     _r\u001b[39m=\u001b[39m\u001b[39m1\u001b[39m,\n\u001b[1;32m   1781\u001b[0m ):\n\u001b[1;32m   1782\u001b[0m     callbacks\u001b[39m.\u001b[39mon_train_batch_begin(step)\n\u001b[0;32m-> 1783\u001b[0m     tmp_logs \u001b[39m=\u001b[39m \u001b[39mself\u001b[39;49m\u001b[39m.\u001b[39;49mtrain_function(iterator)\n\u001b[1;32m   1784\u001b[0m     \u001b[39mif\u001b[39;00m data_handler\u001b[39m.\u001b[39mshould_sync:\n\u001b[1;32m   1785\u001b[0m         context\u001b[39m.\u001b[39masync_wait()\n",
      "File \u001b[0;32m/opt/homebrew/lib/python3.11/site-packages/tensorflow/python/util/traceback_utils.py:150\u001b[0m, in \u001b[0;36mfilter_traceback.<locals>.error_handler\u001b[0;34m(*args, **kwargs)\u001b[0m\n\u001b[1;32m    148\u001b[0m filtered_tb \u001b[39m=\u001b[39m \u001b[39mNone\u001b[39;00m\n\u001b[1;32m    149\u001b[0m \u001b[39mtry\u001b[39;00m:\n\u001b[0;32m--> 150\u001b[0m   \u001b[39mreturn\u001b[39;00m fn(\u001b[39m*\u001b[39;49margs, \u001b[39m*\u001b[39;49m\u001b[39m*\u001b[39;49mkwargs)\n\u001b[1;32m    151\u001b[0m \u001b[39mexcept\u001b[39;00m \u001b[39mException\u001b[39;00m \u001b[39mas\u001b[39;00m e:\n\u001b[1;32m    152\u001b[0m   filtered_tb \u001b[39m=\u001b[39m _process_traceback_frames(e\u001b[39m.\u001b[39m__traceback__)\n",
      "File \u001b[0;32m/opt/homebrew/lib/python3.11/site-packages/tensorflow/python/eager/polymorphic_function/polymorphic_function.py:831\u001b[0m, in \u001b[0;36mFunction.__call__\u001b[0;34m(self, *args, **kwds)\u001b[0m\n\u001b[1;32m    828\u001b[0m compiler \u001b[39m=\u001b[39m \u001b[39m\"\u001b[39m\u001b[39mxla\u001b[39m\u001b[39m\"\u001b[39m \u001b[39mif\u001b[39;00m \u001b[39mself\u001b[39m\u001b[39m.\u001b[39m_jit_compile \u001b[39melse\u001b[39;00m \u001b[39m\"\u001b[39m\u001b[39mnonXla\u001b[39m\u001b[39m\"\u001b[39m\n\u001b[1;32m    830\u001b[0m \u001b[39mwith\u001b[39;00m OptionalXlaContext(\u001b[39mself\u001b[39m\u001b[39m.\u001b[39m_jit_compile):\n\u001b[0;32m--> 831\u001b[0m   result \u001b[39m=\u001b[39m \u001b[39mself\u001b[39;49m\u001b[39m.\u001b[39;49m_call(\u001b[39m*\u001b[39;49margs, \u001b[39m*\u001b[39;49m\u001b[39m*\u001b[39;49mkwds)\n\u001b[1;32m    833\u001b[0m new_tracing_count \u001b[39m=\u001b[39m \u001b[39mself\u001b[39m\u001b[39m.\u001b[39mexperimental_get_tracing_count()\n\u001b[1;32m    834\u001b[0m without_tracing \u001b[39m=\u001b[39m (tracing_count \u001b[39m==\u001b[39m new_tracing_count)\n",
      "File \u001b[0;32m/opt/homebrew/lib/python3.11/site-packages/tensorflow/python/eager/polymorphic_function/polymorphic_function.py:867\u001b[0m, in \u001b[0;36mFunction._call\u001b[0;34m(self, *args, **kwds)\u001b[0m\n\u001b[1;32m    864\u001b[0m   \u001b[39mself\u001b[39m\u001b[39m.\u001b[39m_lock\u001b[39m.\u001b[39mrelease()\n\u001b[1;32m    865\u001b[0m   \u001b[39m# In this case we have created variables on the first call, so we run the\u001b[39;00m\n\u001b[1;32m    866\u001b[0m   \u001b[39m# defunned version which is guaranteed to never create variables.\u001b[39;00m\n\u001b[0;32m--> 867\u001b[0m   \u001b[39mreturn\u001b[39;00m tracing_compilation\u001b[39m.\u001b[39;49mcall_function(\n\u001b[1;32m    868\u001b[0m       args, kwds, \u001b[39mself\u001b[39;49m\u001b[39m.\u001b[39;49m_no_variable_creation_config\n\u001b[1;32m    869\u001b[0m   )\n\u001b[1;32m    870\u001b[0m \u001b[39melif\u001b[39;00m \u001b[39mself\u001b[39m\u001b[39m.\u001b[39m_variable_creation_config \u001b[39mis\u001b[39;00m \u001b[39mnot\u001b[39;00m \u001b[39mNone\u001b[39;00m:\n\u001b[1;32m    871\u001b[0m   \u001b[39m# Release the lock early so that multiple threads can perform the call\u001b[39;00m\n\u001b[1;32m    872\u001b[0m   \u001b[39m# in parallel.\u001b[39;00m\n\u001b[1;32m    873\u001b[0m   \u001b[39mself\u001b[39m\u001b[39m.\u001b[39m_lock\u001b[39m.\u001b[39mrelease()\n",
      "File \u001b[0;32m/opt/homebrew/lib/python3.11/site-packages/tensorflow/python/eager/polymorphic_function/tracing_compilation.py:139\u001b[0m, in \u001b[0;36mcall_function\u001b[0;34m(args, kwargs, tracing_options)\u001b[0m\n\u001b[1;32m    137\u001b[0m bound_args \u001b[39m=\u001b[39m function\u001b[39m.\u001b[39mfunction_type\u001b[39m.\u001b[39mbind(\u001b[39m*\u001b[39margs, \u001b[39m*\u001b[39m\u001b[39m*\u001b[39mkwargs)\n\u001b[1;32m    138\u001b[0m flat_inputs \u001b[39m=\u001b[39m function\u001b[39m.\u001b[39mfunction_type\u001b[39m.\u001b[39munpack_inputs(bound_args)\n\u001b[0;32m--> 139\u001b[0m \u001b[39mreturn\u001b[39;00m function\u001b[39m.\u001b[39;49m_call_flat(  \u001b[39m# pylint: disable=protected-access\u001b[39;49;00m\n\u001b[1;32m    140\u001b[0m     flat_inputs, captured_inputs\u001b[39m=\u001b[39;49mfunction\u001b[39m.\u001b[39;49mcaptured_inputs\n\u001b[1;32m    141\u001b[0m )\n",
      "File \u001b[0;32m/opt/homebrew/lib/python3.11/site-packages/tensorflow/python/eager/polymorphic_function/concrete_function.py:1264\u001b[0m, in \u001b[0;36mConcreteFunction._call_flat\u001b[0;34m(self, tensor_inputs, captured_inputs)\u001b[0m\n\u001b[1;32m   1260\u001b[0m possible_gradient_type \u001b[39m=\u001b[39m gradients_util\u001b[39m.\u001b[39mPossibleTapeGradientTypes(args)\n\u001b[1;32m   1261\u001b[0m \u001b[39mif\u001b[39;00m (possible_gradient_type \u001b[39m==\u001b[39m gradients_util\u001b[39m.\u001b[39mPOSSIBLE_GRADIENT_TYPES_NONE\n\u001b[1;32m   1262\u001b[0m     \u001b[39mand\u001b[39;00m executing_eagerly):\n\u001b[1;32m   1263\u001b[0m   \u001b[39m# No tape is watching; skip to running the function.\u001b[39;00m\n\u001b[0;32m-> 1264\u001b[0m   \u001b[39mreturn\u001b[39;00m \u001b[39mself\u001b[39;49m\u001b[39m.\u001b[39;49m_inference_function\u001b[39m.\u001b[39;49mflat_call(args)\n\u001b[1;32m   1265\u001b[0m forward_backward \u001b[39m=\u001b[39m \u001b[39mself\u001b[39m\u001b[39m.\u001b[39m_select_forward_and_backward_functions(\n\u001b[1;32m   1266\u001b[0m     args,\n\u001b[1;32m   1267\u001b[0m     possible_gradient_type,\n\u001b[1;32m   1268\u001b[0m     executing_eagerly)\n\u001b[1;32m   1269\u001b[0m forward_function, args_with_tangents \u001b[39m=\u001b[39m forward_backward\u001b[39m.\u001b[39mforward()\n",
      "File \u001b[0;32m/opt/homebrew/lib/python3.11/site-packages/tensorflow/python/eager/polymorphic_function/atomic_function.py:217\u001b[0m, in \u001b[0;36mAtomicFunction.flat_call\u001b[0;34m(self, args)\u001b[0m\n\u001b[1;32m    215\u001b[0m \u001b[39mdef\u001b[39;00m \u001b[39mflat_call\u001b[39m(\u001b[39mself\u001b[39m, args: Sequence[core\u001b[39m.\u001b[39mTensor]) \u001b[39m-\u001b[39m\u001b[39m>\u001b[39m Any:\n\u001b[1;32m    216\u001b[0m \u001b[39m  \u001b[39m\u001b[39m\"\"\"Calls with tensor inputs and returns the structured output.\"\"\"\u001b[39;00m\n\u001b[0;32m--> 217\u001b[0m   flat_outputs \u001b[39m=\u001b[39m \u001b[39mself\u001b[39;49m(\u001b[39m*\u001b[39;49margs)\n\u001b[1;32m    218\u001b[0m   \u001b[39mreturn\u001b[39;00m \u001b[39mself\u001b[39m\u001b[39m.\u001b[39mfunction_type\u001b[39m.\u001b[39mpack_output(flat_outputs)\n",
      "File \u001b[0;32m/opt/homebrew/lib/python3.11/site-packages/tensorflow/python/eager/polymorphic_function/atomic_function.py:252\u001b[0m, in \u001b[0;36mAtomicFunction.__call__\u001b[0;34m(self, *args)\u001b[0m\n\u001b[1;32m    250\u001b[0m \u001b[39mwith\u001b[39;00m record\u001b[39m.\u001b[39mstop_recording():\n\u001b[1;32m    251\u001b[0m   \u001b[39mif\u001b[39;00m \u001b[39mself\u001b[39m\u001b[39m.\u001b[39m_bound_context\u001b[39m.\u001b[39mexecuting_eagerly():\n\u001b[0;32m--> 252\u001b[0m     outputs \u001b[39m=\u001b[39m \u001b[39mself\u001b[39;49m\u001b[39m.\u001b[39;49m_bound_context\u001b[39m.\u001b[39;49mcall_function(\n\u001b[1;32m    253\u001b[0m         \u001b[39mself\u001b[39;49m\u001b[39m.\u001b[39;49mname,\n\u001b[1;32m    254\u001b[0m         \u001b[39mlist\u001b[39;49m(args),\n\u001b[1;32m    255\u001b[0m         \u001b[39mlen\u001b[39;49m(\u001b[39mself\u001b[39;49m\u001b[39m.\u001b[39;49mfunction_type\u001b[39m.\u001b[39;49mflat_outputs),\n\u001b[1;32m    256\u001b[0m     )\n\u001b[1;32m    257\u001b[0m   \u001b[39melse\u001b[39;00m:\n\u001b[1;32m    258\u001b[0m     outputs \u001b[39m=\u001b[39m make_call_op_in_graph(\n\u001b[1;32m    259\u001b[0m         \u001b[39mself\u001b[39m,\n\u001b[1;32m    260\u001b[0m         \u001b[39mlist\u001b[39m(args),\n\u001b[1;32m    261\u001b[0m         \u001b[39mself\u001b[39m\u001b[39m.\u001b[39m_bound_context\u001b[39m.\u001b[39mfunction_call_options\u001b[39m.\u001b[39mas_attrs(),\n\u001b[1;32m    262\u001b[0m     )\n",
      "File \u001b[0;32m/opt/homebrew/lib/python3.11/site-packages/tensorflow/python/eager/context.py:1479\u001b[0m, in \u001b[0;36mContext.call_function\u001b[0;34m(self, name, tensor_inputs, num_outputs)\u001b[0m\n\u001b[1;32m   1477\u001b[0m cancellation_context \u001b[39m=\u001b[39m cancellation\u001b[39m.\u001b[39mcontext()\n\u001b[1;32m   1478\u001b[0m \u001b[39mif\u001b[39;00m cancellation_context \u001b[39mis\u001b[39;00m \u001b[39mNone\u001b[39;00m:\n\u001b[0;32m-> 1479\u001b[0m   outputs \u001b[39m=\u001b[39m execute\u001b[39m.\u001b[39;49mexecute(\n\u001b[1;32m   1480\u001b[0m       name\u001b[39m.\u001b[39;49mdecode(\u001b[39m\"\u001b[39;49m\u001b[39mutf-8\u001b[39;49m\u001b[39m\"\u001b[39;49m),\n\u001b[1;32m   1481\u001b[0m       num_outputs\u001b[39m=\u001b[39;49mnum_outputs,\n\u001b[1;32m   1482\u001b[0m       inputs\u001b[39m=\u001b[39;49mtensor_inputs,\n\u001b[1;32m   1483\u001b[0m       attrs\u001b[39m=\u001b[39;49mattrs,\n\u001b[1;32m   1484\u001b[0m       ctx\u001b[39m=\u001b[39;49m\u001b[39mself\u001b[39;49m,\n\u001b[1;32m   1485\u001b[0m   )\n\u001b[1;32m   1486\u001b[0m \u001b[39melse\u001b[39;00m:\n\u001b[1;32m   1487\u001b[0m   outputs \u001b[39m=\u001b[39m execute\u001b[39m.\u001b[39mexecute_with_cancellation(\n\u001b[1;32m   1488\u001b[0m       name\u001b[39m.\u001b[39mdecode(\u001b[39m\"\u001b[39m\u001b[39mutf-8\u001b[39m\u001b[39m\"\u001b[39m),\n\u001b[1;32m   1489\u001b[0m       num_outputs\u001b[39m=\u001b[39mnum_outputs,\n\u001b[0;32m   (...)\u001b[0m\n\u001b[1;32m   1493\u001b[0m       cancellation_manager\u001b[39m=\u001b[39mcancellation_context,\n\u001b[1;32m   1494\u001b[0m   )\n",
      "File \u001b[0;32m/opt/homebrew/lib/python3.11/site-packages/tensorflow/python/eager/execute.py:60\u001b[0m, in \u001b[0;36mquick_execute\u001b[0;34m(op_name, num_outputs, inputs, attrs, ctx, name)\u001b[0m\n\u001b[1;32m     53\u001b[0m   \u001b[39m# Convert any objects of type core_types.Tensor to Tensor.\u001b[39;00m\n\u001b[1;32m     54\u001b[0m   inputs \u001b[39m=\u001b[39m [\n\u001b[1;32m     55\u001b[0m       tensor_conversion_registry\u001b[39m.\u001b[39mconvert(t)\n\u001b[1;32m     56\u001b[0m       \u001b[39mif\u001b[39;00m \u001b[39misinstance\u001b[39m(t, core_types\u001b[39m.\u001b[39mTensor)\n\u001b[1;32m     57\u001b[0m       \u001b[39melse\u001b[39;00m t\n\u001b[1;32m     58\u001b[0m       \u001b[39mfor\u001b[39;00m t \u001b[39min\u001b[39;00m inputs\n\u001b[1;32m     59\u001b[0m   ]\n\u001b[0;32m---> 60\u001b[0m   tensors \u001b[39m=\u001b[39m pywrap_tfe\u001b[39m.\u001b[39;49mTFE_Py_Execute(ctx\u001b[39m.\u001b[39;49m_handle, device_name, op_name,\n\u001b[1;32m     61\u001b[0m                                       inputs, attrs, num_outputs)\n\u001b[1;32m     62\u001b[0m \u001b[39mexcept\u001b[39;00m core\u001b[39m.\u001b[39m_NotOkStatusException \u001b[39mas\u001b[39;00m e:\n\u001b[1;32m     63\u001b[0m   \u001b[39mif\u001b[39;00m name \u001b[39mis\u001b[39;00m \u001b[39mnot\u001b[39;00m \u001b[39mNone\u001b[39;00m:\n",
      "\u001b[0;31mKeyboardInterrupt\u001b[0m: "
     ]
    }
   ],
   "source": [
    "import tensorflow as tf\n",
    "from tensorflow.keras import layers, Sequential\n",
    "import numpy as np\n",
    "from tensorflow.keras.optimizers import Adam,SGD,Adagrad\n",
    "\n",
    "num_epochs = 1000\n",
    "batch_size = 50\n",
    "num_classes = len(tag_set)\n",
    "sequence_length = 50\n",
    "output_shape=(sequence_length,num_classes)\n",
    "\n",
    "model = Sequential([\n",
    "    layers.Embedding(input_dim=num_tokens, output_dim=embedding_dim, input_length=sequence_length,trainable=False),\n",
    "    layers.LSTM(sequence_length),\n",
    "    layers.Dense(sequence_length*num_classes, activation='softmax'),\n",
    "    layers.Reshape(output_shape)\n",
    "    \n",
    "])\n",
    "desired_learning_rate = 0.001\n",
    "\n",
    "# Create an Adam optimizer instance with the desired learning rate\n",
    "optimizer = Adagrad(learning_rate=desired_learning_rate)\n",
    "\n",
    "# Compile the model with the customized optimizer\n",
    "model.compile(loss='categorical_crossentropy', optimizer=optimizer, metrics=[\"accuracy\"])\n",
    "early_stopping = EarlyStopping(patience=10)\n",
    "# Training (replace with your data)\n",
    "model.fit(x_train, y_train, batch_size=batch_size, epochs=num_epochs, shuffle=True, validation_data=(x_dev, y_dev),\n",
    "         callbacks = early_stopping, workers = 4)\n"
   ]
  },
  {
   "cell_type": "code",
   "execution_count": 70,
   "metadata": {},
   "outputs": [
    {
     "name": "stdout",
     "output_type": "stream",
     "text": [
      "Model: \"sequential_36\"\n",
      "_________________________________________________________________\n",
      " Layer (type)                Output Shape              Param #   \n",
      "=================================================================\n",
      " embedding_36 (Embedding)    (None, 50, 50)            150000200 \n",
      "                                                                 \n",
      " lstm_36 (LSTM)              (None, 50)                20200     \n",
      "                                                                 \n",
      " dense_41 (Dense)            (None, 256)               13056     \n",
      "                                                                 \n",
      " dropout_1 (Dropout)         (None, 256)               0         \n",
      "                                                                 \n",
      " dense_42 (Dense)            (None, 400)               102800    \n",
      "                                                                 \n",
      " reshape_25 (Reshape)        (None, 50, 8)             0         \n",
      "                                                                 \n",
      "=================================================================\n",
      "Total params: 150136256 (572.72 MB)\n",
      "Trainable params: 136056 (531.47 KB)\n",
      "Non-trainable params: 150000200 (572.21 MB)\n",
      "_________________________________________________________________\n"
     ]
    }
   ],
   "source": [
    "num_classes = len(tag_set)\n",
    "sequence_length = 50\n",
    "output_shape=(sequence_length,num_classes)\n",
    "\n",
    "model = keras.Sequential()\n",
    "model.add(InputLayer(embedding_dim))\n",
    "model.add(Embedding(input_dim=num_tokens, output_dim=embedding_dim, input_length = sequence_length, trainable=False,))\n",
    "model.add(LSTM(units=sequence_length))\n",
    "model.add(Dense(units=256, activation= \"relu\", kernel_regularizer=regularizers.L1L2(l1=0.025, l2=0.025)))\n",
    "model.add(Dropout(0.01))  \n",
    "model.add(Dense(sequence_length * num_classes, activation='softmax'))\n",
    "model.add(tf.keras.layers.Reshape(output_shape))\n",
    "\n",
    "model.compile(optimizer=\"adam\",\n",
    "              loss=\"categorical_crossentropy\",\n",
    "              metrics=[\"accuracy\"])\n",
    "early_stopping = EarlyStopping(patience=10)\n",
    "model.summary()"
   ]
  },
  {
   "cell_type": "code",
   "execution_count": 71,
   "metadata": {},
   "outputs": [
    {
     "name": "stdout",
     "output_type": "stream",
     "text": [
      "Epoch 1/1000\n",
      "300/300 [==============================] - 4s 12ms/step - loss: 4.4232 - accuracy: 0.9456 - val_loss: 0.2663 - val_accuracy: 0.9510\n",
      "Epoch 2/1000\n",
      "300/300 [==============================] - 3s 11ms/step - loss: 0.2450 - accuracy: 0.9546 - val_loss: 0.2638 - val_accuracy: 0.9510\n",
      "Epoch 3/1000\n",
      "300/300 [==============================] - 3s 11ms/step - loss: 0.2444 - accuracy: 0.9546 - val_loss: 0.2617 - val_accuracy: 0.9510\n",
      "Epoch 4/1000\n",
      "300/300 [==============================] - 3s 11ms/step - loss: 0.2450 - accuracy: 0.9546 - val_loss: 0.2646 - val_accuracy: 0.9510\n",
      "Epoch 5/1000\n",
      "300/300 [==============================] - 3s 11ms/step - loss: 0.2451 - accuracy: 0.9546 - val_loss: 0.2619 - val_accuracy: 0.9510\n",
      "Epoch 6/1000\n",
      "300/300 [==============================] - 3s 11ms/step - loss: 0.2448 - accuracy: 0.9546 - val_loss: 0.2648 - val_accuracy: 0.9510\n",
      "Epoch 7/1000\n",
      "300/300 [==============================] - 3s 11ms/step - loss: 0.2437 - accuracy: 0.9546 - val_loss: 0.2632 - val_accuracy: 0.9510\n",
      "Epoch 8/1000\n",
      "300/300 [==============================] - 3s 11ms/step - loss: 0.2447 - accuracy: 0.9546 - val_loss: 0.2655 - val_accuracy: 0.9510\n",
      "Epoch 9/1000\n",
      "300/300 [==============================] - 3s 11ms/step - loss: 0.2455 - accuracy: 0.9546 - val_loss: 0.2655 - val_accuracy: 0.9510\n",
      "Epoch 10/1000\n",
      "300/300 [==============================] - 3s 11ms/step - loss: 0.2457 - accuracy: 0.9546 - val_loss: 0.2646 - val_accuracy: 0.9510\n",
      "Epoch 11/1000\n",
      "300/300 [==============================] - 3s 11ms/step - loss: 0.2451 - accuracy: 0.9546 - val_loss: 0.2655 - val_accuracy: 0.9510\n",
      "Epoch 12/1000\n",
      "300/300 [==============================] - 3s 11ms/step - loss: 0.2450 - accuracy: 0.9546 - val_loss: 0.2617 - val_accuracy: 0.9510\n",
      "Epoch 13/1000\n",
      "300/300 [==============================] - 3s 11ms/step - loss: 0.2448 - accuracy: 0.9546 - val_loss: 0.2634 - val_accuracy: 0.9510\n",
      "Epoch 14/1000\n",
      "300/300 [==============================] - 3s 11ms/step - loss: 0.2452 - accuracy: 0.9546 - val_loss: 0.2644 - val_accuracy: 0.9510\n",
      "Epoch 15/1000\n",
      "300/300 [==============================] - 3s 11ms/step - loss: 0.2451 - accuracy: 0.9546 - val_loss: 0.2667 - val_accuracy: 0.9510\n",
      "Epoch 16/1000\n",
      "300/300 [==============================] - 3s 11ms/step - loss: 0.2454 - accuracy: 0.9546 - val_loss: 0.2632 - val_accuracy: 0.9510\n",
      "Epoch 17/1000\n",
      "300/300 [==============================] - 3s 11ms/step - loss: 0.2451 - accuracy: 0.9546 - val_loss: 0.2651 - val_accuracy: 0.9510\n",
      "Epoch 18/1000\n",
      "300/300 [==============================] - 3s 11ms/step - loss: 0.2454 - accuracy: 0.9546 - val_loss: 0.2651 - val_accuracy: 0.9510\n",
      "Epoch 19/1000\n",
      "300/300 [==============================] - 3s 11ms/step - loss: 0.2451 - accuracy: 0.9546 - val_loss: 0.2624 - val_accuracy: 0.9510\n",
      "Epoch 20/1000\n",
      "300/300 [==============================] - 3s 11ms/step - loss: 0.2451 - accuracy: 0.9546 - val_loss: 0.2673 - val_accuracy: 0.9510\n",
      "Epoch 21/1000\n",
      "300/300 [==============================] - 3s 11ms/step - loss: 0.2457 - accuracy: 0.9546 - val_loss: 0.2651 - val_accuracy: 0.9510\n",
      "Epoch 22/1000\n",
      "300/300 [==============================] - 3s 11ms/step - loss: 0.2453 - accuracy: 0.9546 - val_loss: 0.2650 - val_accuracy: 0.9510\n"
     ]
    },
    {
     "data": {
      "text/plain": [
       "<keras.src.callbacks.History at 0x3cc885ed0>"
      ]
     },
     "execution_count": 71,
     "metadata": {},
     "output_type": "execute_result"
    }
   ],
   "source": [
    "num_epochs = 1000\n",
    "batch_size = 50\n",
    "\n",
    "model.fit(x_train, y_train, batch_size=batch_size, epochs=num_epochs, shuffle=True, validation_data=(x_dev, y_dev),\n",
    "         callbacks = early_stopping, workers = 4)"
   ]
  },
  {
   "cell_type": "code",
   "execution_count": 64,
   "metadata": {},
   "outputs": [
    {
     "name": "stdout",
     "output_type": "stream",
     "text": [
      "116/116 [==============================] - 0s 2ms/step\n",
      "[[[2.97168413e-07 3.58342419e-07 3.76703980e-07 ... 1.46952493e-03\n",
      "   7.96799723e-04 5.54952258e-03]\n",
      "  [3.45029071e-06 3.99986584e-06 3.75066463e-07 ... 6.44487329e-04\n",
      "   9.45195381e-04 5.72303310e-03]\n",
      "  [1.25970166e-06 4.55194993e-07 4.31053820e-07 ... 6.19496626e-04\n",
      "   9.55473224e-04 8.07509571e-03]\n",
      "  ...\n",
      "  [1.05844390e-06 1.24763585e-06 1.22487268e-06 ... 1.25415236e-05\n",
      "   1.83292595e-05 4.24492024e-02]\n",
      "  [1.22808456e-06 1.54944473e-06 1.19046615e-06 ... 7.87406680e-06\n",
      "   1.42421250e-05 4.76623774e-02]\n",
      "  [1.56278747e-06 1.43113516e-06 1.67542589e-06 ... 1.58047806e-06\n",
      "   1.72089688e-06 1.06036514e-01]]\n",
      "\n",
      " [[2.97168413e-07 3.58342419e-07 3.76703980e-07 ... 1.46952493e-03\n",
      "   7.96799723e-04 5.54952258e-03]\n",
      "  [3.45029071e-06 3.99986584e-06 3.75066463e-07 ... 6.44487329e-04\n",
      "   9.45195381e-04 5.72303310e-03]\n",
      "  [1.25970166e-06 4.55194993e-07 4.31053820e-07 ... 6.19496626e-04\n",
      "   9.55473224e-04 8.07509571e-03]\n",
      "  ...\n",
      "  [1.05844390e-06 1.24763585e-06 1.22487268e-06 ... 1.25415236e-05\n",
      "   1.83292595e-05 4.24492024e-02]\n",
      "  [1.22808456e-06 1.54944473e-06 1.19046615e-06 ... 7.87406680e-06\n",
      "   1.42421250e-05 4.76623774e-02]\n",
      "  [1.56278747e-06 1.43113516e-06 1.67542589e-06 ... 1.58047806e-06\n",
      "   1.72089688e-06 1.06036514e-01]]\n",
      "\n",
      " [[2.97168413e-07 3.58342419e-07 3.76703980e-07 ... 1.46952493e-03\n",
      "   7.96799723e-04 5.54952258e-03]\n",
      "  [3.45029071e-06 3.99986584e-06 3.75066463e-07 ... 6.44487329e-04\n",
      "   9.45195381e-04 5.72303310e-03]\n",
      "  [1.25970166e-06 4.55194993e-07 4.31053820e-07 ... 6.19496626e-04\n",
      "   9.55473224e-04 8.07509571e-03]\n",
      "  ...\n",
      "  [1.05844390e-06 1.24763585e-06 1.22487268e-06 ... 1.25415236e-05\n",
      "   1.83292595e-05 4.24492024e-02]\n",
      "  [1.22808456e-06 1.54944473e-06 1.19046615e-06 ... 7.87406680e-06\n",
      "   1.42421250e-05 4.76623774e-02]\n",
      "  [1.56278747e-06 1.43113516e-06 1.67542589e-06 ... 1.58047806e-06\n",
      "   1.72089688e-06 1.06036514e-01]]\n",
      "\n",
      " ...\n",
      "\n",
      " [[2.97168356e-07 3.58342703e-07 3.76703923e-07 ... 1.46952481e-03\n",
      "   7.96799664e-04 5.54952212e-03]\n",
      "  [3.45029366e-06 3.99986948e-06 3.75066065e-07 ... 6.44487271e-04\n",
      "   9.45195323e-04 5.72303263e-03]\n",
      "  [1.25970030e-06 4.55194510e-07 4.31054190e-07 ... 6.19496568e-04\n",
      "   9.55473166e-04 8.07509385e-03]\n",
      "  ...\n",
      "  [1.05844379e-06 1.24763562e-06 1.22487256e-06 ... 1.25415099e-05\n",
      "   1.83292577e-05 4.24491987e-02]\n",
      "  [1.22808444e-06 1.54944303e-06 1.19046604e-06 ... 7.87406589e-06\n",
      "   1.42421095e-05 4.76623736e-02]\n",
      "  [1.56278736e-06 1.43113505e-06 1.67542566e-06 ... 1.58047783e-06\n",
      "   1.72090006e-06 1.06036603e-01]]\n",
      "\n",
      " [[2.97168384e-07 3.58342731e-07 3.76703952e-07 ... 1.46952551e-03\n",
      "   7.96799723e-04 5.54952258e-03]\n",
      "  [3.45029389e-06 3.99986948e-06 3.75066094e-07 ... 6.44487329e-04\n",
      "   9.45195381e-04 5.72303310e-03]\n",
      "  [1.25970166e-06 4.55194964e-07 4.31054218e-07 ... 6.19496626e-04\n",
      "   9.55473224e-04 8.07509478e-03]\n",
      "  ...\n",
      "  [1.05844390e-06 1.24763574e-06 1.22487256e-06 ... 1.25415108e-05\n",
      "   1.83292595e-05 4.24492247e-02]\n",
      "  [1.22808456e-06 1.54944314e-06 1.19046604e-06 ... 7.87406680e-06\n",
      "   1.42421104e-05 4.76623736e-02]\n",
      "  [1.56278747e-06 1.43113516e-06 1.67542578e-06 ... 1.58047635e-06\n",
      "   1.72090017e-06 1.06036611e-01]]\n",
      "\n",
      " [[2.97168356e-07 3.58342703e-07 3.76703923e-07 ... 1.46952481e-03\n",
      "   7.96799664e-04 5.54952212e-03]\n",
      "  [3.45029366e-06 3.99986948e-06 3.75066065e-07 ... 6.44487271e-04\n",
      "   9.45195323e-04 5.72303263e-03]\n",
      "  [1.25970030e-06 4.55194510e-07 4.31054190e-07 ... 6.19496568e-04\n",
      "   9.55473166e-04 8.07509385e-03]\n",
      "  ...\n",
      "  [1.05844379e-06 1.24763562e-06 1.22487256e-06 ... 1.25415099e-05\n",
      "   1.83292577e-05 4.24491987e-02]\n",
      "  [1.22808444e-06 1.54944303e-06 1.19046604e-06 ... 7.87406589e-06\n",
      "   1.42421095e-05 4.76623736e-02]\n",
      "  [1.56278736e-06 1.43113505e-06 1.67542566e-06 ... 1.58047783e-06\n",
      "   1.72090006e-06 1.06036603e-01]]]\n"
     ]
    }
   ],
   "source": [
    "predicted_labels = model.predict(x_test)\n",
    "print(predicted_labels)"
   ]
  },
  {
   "cell_type": "code",
   "execution_count": 65,
   "metadata": {},
   "outputs": [
    {
     "name": "stdout",
     "output_type": "stream",
     "text": [
      "116/116 [==============================] - 0s 2ms/step - loss: 0.2308 - accuracy: 0.9565\n",
      "Test Loss: 0.23075248301029205, Test Accuracy: 0.9565255045890808\n"
     ]
    }
   ],
   "source": [
    "loss, accuracy = model.evaluate(x_test, y_test)\n",
    "print(f'Test Loss: {loss}, Test Accuracy: {accuracy}')"
   ]
  },
  {
   "cell_type": "code",
   "execution_count": null,
   "metadata": {},
   "outputs": [],
   "source": []
  },
  {
   "cell_type": "code",
   "execution_count": null,
   "metadata": {},
   "outputs": [],
   "source": []
  }
 ],
 "metadata": {
  "kernelspec": {
   "display_name": "Python 3",
   "language": "python",
   "name": "python3"
  },
  "language_info": {
   "codemirror_mode": {
    "name": "ipython",
    "version": 3
   },
   "file_extension": ".py",
   "mimetype": "text/x-python",
   "name": "python",
   "nbconvert_exporter": "python",
   "pygments_lexer": "ipython3",
   "version": "3.11.6"
  }
 },
 "nbformat": 4,
 "nbformat_minor": 2
}
