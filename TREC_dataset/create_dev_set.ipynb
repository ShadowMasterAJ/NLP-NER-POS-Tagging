{
 "cells": [
  {
   "cell_type": "code",
   "execution_count": 38,
   "metadata": {},
   "outputs": [],
   "source": [
    "import pandas as pd\n",
    "import random"
   ]
  },
  {
   "cell_type": "code",
   "execution_count": 39,
   "metadata": {},
   "outputs": [],
   "source": [
    "# Load the train and test datasets into pandas DataFrames\n",
    "train_df = pd.read_csv('og_data/train.csv')\n",
    "test_df = pd.read_csv('og_data/test.csv')"
   ]
  },
  {
   "cell_type": "markdown",
   "metadata": {},
   "source": [
    "You are expected to form a development set from a random subset (containing 500 examples) within the original training data. Make sure you will remove these examples from the original training file when training your model"
   ]
  },
  {
   "cell_type": "code",
   "execution_count": 40,
   "metadata": {},
   "outputs": [],
   "source": [
    "# Number of examples you want in the development set\n",
    "dev_size = 500\n",
    "\n",
    "# Randomly select dev_size examples from the training set\n",
    "dev_df = train_df.sample(n=dev_size, random_state=42)\n",
    "\n",
    "# Remove the selected examples from the training set\n",
    "train_df = train_df.drop(dev_df.index)\n",
    "\n",
    "# Ignore the 'label-fine' column and use only 'label-coarse' for training and development sets\n",
    "train_df = train_df[['label-coarse','text']]\n",
    "dev_df = dev_df[['label-coarse', 'text']]\n",
    "test_df = test_df[['label-coarse', 'text']]"
   ]
  },
  {
   "cell_type": "markdown",
   "metadata": {},
   "source": [
    "Randomly select 4 classes from the 6 different coarse labels, and combine the remaining 2 labels to form a single class: ‘OTHERS’. Adjust the original data such that the label for each sentence is updated according to the new setting (5 classes in total). "
   ]
  },
  {
   "cell_type": "code",
   "execution_count": 41,
   "metadata": {},
   "outputs": [
    {
     "data": {
      "text/plain": [
       "[3, 0]"
      ]
     },
     "execution_count": 41,
     "metadata": {},
     "output_type": "execute_result"
    }
   ],
   "source": [
    "labels = list(train_df['label-coarse'].unique())\n",
    "choices = random.sample(labels, 2)\n",
    "choices # [5,3]"
   ]
  },
  {
   "cell_type": "code",
   "execution_count": 42,
   "metadata": {},
   "outputs": [
    {
     "data": {
      "text/plain": [
       "{0: 'OTHERS', 1: 1, 2: 2, 3: 'OTHERS', 4: 4, 5: 5}"
      ]
     },
     "execution_count": 42,
     "metadata": {},
     "output_type": "execute_result"
    }
   ],
   "source": [
    "label_mapping = {label: 'OTHERS' if label in choices else label for label in labels}\n",
    "label_mapping"
   ]
  },
  {
   "cell_type": "code",
   "execution_count": 43,
   "metadata": {},
   "outputs": [],
   "source": [
    "# Update labels in the DataFrames\n",
    "train_df['label-coarse'] = train_df['label-coarse'].apply(lambda x: label_mapping[x])\n",
    "dev_df['label-coarse'] = dev_df['label-coarse'].apply(lambda x: label_mapping[x])\n",
    "test_df['label-coarse'] = test_df['label-coarse'].apply(lambda x: label_mapping[x])"
   ]
  },
  {
   "cell_type": "code",
   "execution_count": 44,
   "metadata": {},
   "outputs": [
    {
     "name": "stdout",
     "output_type": "stream",
     "text": [
      "['OTHERS', 1, 2, 4, 5]\n",
      "[5, 1, 'OTHERS', 2, 4]\n",
      "[4, 5, 'OTHERS', 1, 2]\n"
     ]
    }
   ],
   "source": [
    "print(list(train_df['label-coarse'].unique()))\n",
    "print(list(dev_df['label-coarse'].unique()))\n",
    "print(list(test_df['label-coarse'].unique()))"
   ]
  },
  {
   "cell_type": "code",
   "execution_count": 45,
   "metadata": {},
   "outputs": [],
   "source": [
    "train_df.to_csv('train.csv', index=False)\n",
    "dev_df.to_csv('dev.csv', index=False)\n",
    "test_df.to_csv('test.csv', index=False)"
   ]
  }
 ],
 "metadata": {
  "kernelspec": {
   "display_name": "Python 3",
   "language": "python",
   "name": "python3"
  },
  "language_info": {
   "codemirror_mode": {
    "name": "ipython",
    "version": 3
   },
   "file_extension": ".py",
   "mimetype": "text/x-python",
   "name": "python",
   "nbconvert_exporter": "python",
   "pygments_lexer": "ipython3",
   "version": "3.10.13"
  }
 },
 "nbformat": 4,
 "nbformat_minor": 2
}
