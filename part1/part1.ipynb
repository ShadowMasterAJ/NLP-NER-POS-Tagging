{
 "cells": [
  {
   "cell_type": "code",
   "execution_count": 1,
   "metadata": {},
   "outputs": [],
   "source": [
    "import pandas as pd\n",
    "import os\n",
    "import gensim.downloader\n",
    "from gensim.models import Word2Vec, KeyedVectors\n",
    "import tensorflow as tf\n",
    "import numpy as np\n",
    "\n",
    "from keras import Model, Input\n",
    "from keras.layers import LSTM, Embedding, Dense\n",
    "from keras.layers import InputLayer\n",
    "from tensorflow import keras\n",
    "from keras.preprocessing.sequence import pad_sequences\n",
    "from keras.preprocessing.text import Tokenizer\n",
    "from keras.utils import to_categorical\n",
    "from keras.callbacks import EarlyStopping\n",
    "from keras import regularizers\n",
    "from keras.layers import Dropout\n",
    "from keras.callbacks import EarlyStopping"
   ]
  },
  {
   "cell_type": "markdown",
   "metadata": {},
   "source": [
    "#### Train word2vec model"
   ]
  },
  {
   "cell_type": "code",
   "execution_count": 2,
   "metadata": {},
   "outputs": [],
   "source": [
    "def getSentences(path):\n",
    "    file_path = path\n",
    "    sentences = []\n",
    "    current_sentence = []\n",
    "    try:\n",
    "        with open(file_path, 'r') as file:\n",
    "            for line in file:\n",
    "                if line.strip():\n",
    "                    word = line.split()[0]\n",
    "                    current_sentence.append(word)\n",
    "                else:\n",
    "                    if current_sentence:\n",
    "                        sentences.append(current_sentence)\n",
    "                    current_sentence = []\n",
    "            if current_sentence:\n",
    "                sentences.append(current_sentence)\n",
    "            return sentences\n",
    "    except FileNotFoundError:\n",
    "        print(f\"File '{file_path}' not found.\")\n",
    "    except Exception as e:\n",
    "        print(f\"An error occurred: {e}\")\n",
    "\n",
    "def getTags(path):\n",
    "    file_path = path\n",
    "    tags = []\n",
    "    current_sentence = []\n",
    "    try:\n",
    "        with open(file_path, 'r') as file:\n",
    "            for line in file:\n",
    "                if line.strip():\n",
    "                    tag = line.split()[3]\n",
    "                    current_sentence.append(tag)\n",
    "                else:\n",
    "                    if current_sentence:\n",
    "                        tags.append(current_sentence)\n",
    "                    current_sentence = []\n",
    "            if current_sentence:\n",
    "                tags.append(current_sentence)\n",
    "            return tags\n",
    "    except FileNotFoundError:\n",
    "        print(f\"File '{file_path}' not found.\")\n",
    "    except Exception as e:\n",
    "        print(f\"An error occurred: {e}\")"
   ]
  },
  {
   "cell_type": "code",
   "execution_count": 3,
   "metadata": {},
   "outputs": [],
   "source": [
    "train_sentences = getSentences('./data/eng.train')\n",
    "train_tags = getTags('./data/eng.train')"
   ]
  },
  {
   "cell_type": "code",
   "execution_count": 4,
   "metadata": {},
   "outputs": [],
   "source": [
    "# train_w2v = Word2Vec(train_sentences, vector_size=100, window=5, min_count=1, workers=4)"
   ]
  },
  {
   "cell_type": "markdown",
   "metadata": {},
   "source": [
    "#### Load w2v Model"
   ]
  },
  {
   "cell_type": "code",
   "execution_count": 5,
   "metadata": {},
   "outputs": [],
   "source": [
    "w2v = gensim.downloader.load(\"word2vec-google-news-300\")"
   ]
  },
  {
   "cell_type": "markdown",
   "metadata": {},
   "source": [
    "#### Preprocess Train, Development and Test Data"
   ]
  },
  {
   "cell_type": "code",
   "execution_count": 6,
   "metadata": {},
   "outputs": [],
   "source": [
    "train_path = './data/eng.train'\n",
    "development_path = './data/eng.testa'\n",
    "test_path = './data/eng.testb'"
   ]
  },
  {
   "cell_type": "code",
   "execution_count": 7,
   "metadata": {},
   "outputs": [],
   "source": [
    "def get_data(path):\n",
    "    try:\n",
    "        with open(path, 'r') as file:\n",
    "            data = file.readlines()\n",
    "        file.close()\n",
    "    except Exception as e:\n",
    "        data = None\n",
    "        print(e)\n",
    "    \n",
    "    return data"
   ]
  },
  {
   "cell_type": "code",
   "execution_count": 8,
   "metadata": {},
   "outputs": [],
   "source": [
    "train_data = get_data(train_path)\n",
    "development_data = get_data(development_path)\n",
    "test_data = get_data(test_path)"
   ]
  },
  {
   "cell_type": "code",
   "execution_count": 9,
   "metadata": {},
   "outputs": [],
   "source": [
    "def extract_sentences(data):\n",
    "    split_data = [line.split(' ') for line in data] if data != None else []\n",
    "    sentences = []\n",
    "    current_sentence = []\n",
    "    for line in split_data:\n",
    "        if line == ['\\n']:\n",
    "            sentences.append(current_sentence)\n",
    "            current_sentence = []\n",
    "        else:\n",
    "            word = line[0]\n",
    "            tag = line[-1].replace('\\n', '')\n",
    "            current_sentence.append([word, tag])\n",
    "    sentences.append(current_sentence)\n",
    "    return sentences\n",
    "\n",
    "def extract_words_and_tags(data):\n",
    "    words = []\n",
    "    tags = []\n",
    "    for line in data:\n",
    "        parts = line.split()\n",
    "        if parts:\n",
    "            word = parts[0]\n",
    "            tag = parts[-1]\n",
    "            words.append(word)\n",
    "            tags.append(tag)\n",
    "    return words, tags"
   ]
  },
  {
   "cell_type": "code",
   "execution_count": 10,
   "metadata": {},
   "outputs": [],
   "source": [
    "train_sentences = extract_sentences(train_data)\n",
    "train_words, train_tags = extract_words_and_tags(train_data)\n",
    "development_sentences = extract_sentences(development_data)\n",
    "development_words, development_tags = extract_words_and_tags(development_data)\n",
    "test_sentences = extract_sentences(test_data)\n",
    "test_words, test_tags = extract_words_and_tags(test_data)"
   ]
  },
  {
   "cell_type": "code",
   "execution_count": 11,
   "metadata": {},
   "outputs": [],
   "source": [
    "train_voc = np.unique(np.array(train_words))\n",
    "dev_voc = np.unique(np.array(development_words))\n",
    "tag_set = np.unique(np.array(train_tags))"
   ]
  },
  {
   "cell_type": "code",
   "execution_count": 12,
   "metadata": {},
   "outputs": [
    {
     "data": {
      "text/plain": [
       "array(['B-LOC', 'B-MISC', 'B-ORG', 'I-LOC', 'I-MISC', 'I-ORG', 'I-PER',\n",
       "       'O'], dtype='<U6')"
      ]
     },
     "execution_count": 12,
     "metadata": {},
     "output_type": "execute_result"
    }
   ],
   "source": [
    "tag_set"
   ]
  },
  {
   "cell_type": "code",
   "execution_count": 13,
   "metadata": {},
   "outputs": [
    {
     "name": "stdout",
     "output_type": "stream",
     "text": [
      "Number of sentences (training): 14987\n",
      "Number of sentences (dev): 3466\n",
      "Number of sentences (test): 3684\n"
     ]
    }
   ],
   "source": [
    "print(\"Number of sentences (training):\", len(train_sentences))\n",
    "print(\"Number of sentences (dev):\", len(development_sentences))\n",
    "print(\"Number of sentences (test):\", len(test_sentences))"
   ]
  },
  {
   "cell_type": "code",
   "execution_count": 14,
   "metadata": {},
   "outputs": [
    {
     "name": "stdout",
     "output_type": "stream",
     "text": [
      "Tag set (BIO): ['B-LOC' 'B-MISC' 'B-ORG' 'I-LOC' 'I-MISC' 'I-ORG' 'I-PER' 'O']\n"
     ]
    }
   ],
   "source": [
    "print(\"Tag set (BIO):\", tag_set)"
   ]
  },
  {
   "cell_type": "code",
   "execution_count": 15,
   "metadata": {},
   "outputs": [],
   "source": [
    "# train_pretrained_weights = train_w2v.wv.vectors\n",
    "# train_num_tokens, train_embedding_dim = train_pretrained_weights.shape\n",
    "\n",
    "# word2idx = train_w2v.wv.key_to_index\n",
    "# word2idx['<UNK>'] = word2idx[list(word2idx.keys())[-1]]+1\n",
    "# word2idx['<PAD>'] = word2idx[list(word2idx.keys())[-1]]+1\n",
    "\n",
    "# voc = train_voc\n",
    "# voc = np.append(voc,'<UNK>')\n",
    "# voc = np.append(voc,'<PAD>')\n",
    "\n",
    "# tag2idx = {k: v for v, k in enumerate(tag_set)}"
   ]
  },
  {
   "cell_type": "code",
   "execution_count": 16,
   "metadata": {},
   "outputs": [],
   "source": [
    "train_pretrained_weights = w2v.vectors\n",
    "train_num_tokens, train_embedding_dim = train_pretrained_weights.shape\n",
    "\n",
    "word2idx = w2v.key_to_index\n",
    "word2idx['<UNK>'] = word2idx[list(word2idx.keys())[-1]]+1\n",
    "word2idx['<PAD>'] = word2idx[list(word2idx.keys())[-1]]+1\n",
    "voc = word2idx.keys()\n",
    "# voc = np.append(voc,'<UNK>')\n",
    "# voc = np.append(voc,'<PAD>')\n",
    "\n",
    "tag2idx = {k: v for v, k in enumerate(tag_set)}\n",
    "tag2idx['<PAD>'] = 8\n",
    "index_to_label={v:k for k,v in tag2idx.items()}"
   ]
  },
  {
   "cell_type": "code",
   "execution_count": 17,
   "metadata": {},
   "outputs": [
    {
     "data": {
      "text/plain": [
       "{0: 'B-LOC',\n",
       " 1: 'B-MISC',\n",
       " 2: 'B-ORG',\n",
       " 3: 'I-LOC',\n",
       " 4: 'I-MISC',\n",
       " 5: 'I-ORG',\n",
       " 6: 'I-PER',\n",
       " 7: 'O',\n",
       " 8: '<PAD>'}"
      ]
     },
     "execution_count": 17,
     "metadata": {},
     "output_type": "execute_result"
    }
   ],
   "source": [
    "index_to_label"
   ]
  },
  {
   "cell_type": "code",
   "execution_count": 18,
   "metadata": {},
   "outputs": [],
   "source": [
    "num_tokens = len(voc)\n",
    "embedding_dim = 50\n"
   ]
  },
  {
   "cell_type": "code",
   "execution_count": 19,
   "metadata": {},
   "outputs": [],
   "source": [
    "def get_x_embeddings(sentences):\n",
    "  sequence = []\n",
    "  sent_seq = []\n",
    "  for s in sentences:\n",
    "    for w in s:\n",
    "      if w[0] in word2idx.keys():\n",
    "        sent_seq.append(word2idx[w[0]])\n",
    "      else:\n",
    "        sent_seq.append(word2idx['<UNK>'])\n",
    "    sequence.append(sent_seq)\n",
    "    sent_seq = []\n",
    "  return sequence"
   ]
  },
  {
   "cell_type": "code",
   "execution_count": 20,
   "metadata": {},
   "outputs": [],
   "source": [
    "import imblearn\n",
    "from imblearn.under_sampling import CondensedNearestNeighbour\n",
    "undersample = CondensedNearestNeighbour(n_neighbors=1)\n",
    "\n",
    "x_train = get_x_embeddings(train_sentences)\n",
    "y_train = [[tag2idx[w[1]] for w in s] for s in train_sentences]\n",
    "x_dev = get_x_embeddings(development_sentences)\n",
    "y_dev = [[tag2idx[w[1]] for w in s] for s in development_sentences]\n",
    "x_test = get_x_embeddings(test_sentences)\n",
    "y_test = [[tag2idx[w[1]] for w in s] for s in test_sentences]\n",
    "\n",
    "#x_train,y_train=undersample.fit_resample(x_train, y_train)\n",
    "\n",
    "x_train = pad_sequences(maxlen=embedding_dim, sequences=x_train, padding=\"post\")\n",
    "y_train = pad_sequences(maxlen=embedding_dim, sequences=y_train, padding=\"post\", value=tag2idx['<PAD>'])\n",
    "x_dev = pad_sequences(maxlen=embedding_dim, sequences=x_dev, padding=\"post\")\n",
    "y_dev = pad_sequences(maxlen=embedding_dim, sequences=y_dev, padding=\"post\", value=tag2idx['<PAD>'])\n",
    "x_test = pad_sequences(maxlen=embedding_dim, sequences=x_test, padding=\"post\")\n",
    "y_test = pad_sequences(maxlen=embedding_dim, sequences=y_test, padding=\"post\", value=tag2idx['<PAD>'])\n",
    "\n",
    "y_train = to_categorical(y_train)\n",
    "y_dev = to_categorical(y_dev)\n",
    "y_test = to_categorical(y_test)"
   ]
  },
  {
   "cell_type": "code",
   "execution_count": 21,
   "metadata": {},
   "outputs": [
    {
     "data": {
      "text/plain": [
       "(14987, 50, 9)"
      ]
     },
     "execution_count": 21,
     "metadata": {},
     "output_type": "execute_result"
    }
   ],
   "source": [
    "y_train.shape"
   ]
  },
  {
   "cell_type": "code",
   "execution_count": 22,
   "metadata": {},
   "outputs": [],
   "source": [
    "# import tensorflow as tf\n",
    "# from tensorflow.keras import layers, Sequential\n",
    "# import numpy as np\n",
    "# from tensorflow.keras.optimizers import Adam,SGD,Adagrad\n",
    "\n",
    "# num_epochs = 200\n",
    "# batch_size = 50\n",
    "# num_classes = len(tag_set)\n",
    "# sequence_length = 50\n",
    "# output_shape=(sequence_length,9)\n",
    "\n",
    "# model = Sequential([\n",
    "#     layers.Embedding(input_dim=num_tokens, output_dim=embedding_dim, input_length=sequence_length,trainable=False),\n",
    "#     layers.LSTM(sequence_length),\n",
    "#     layers.Dense(sequence_length*9, activation='softmax'),\n",
    "#     layers.Reshape(output_shape)\n",
    "    \n",
    "# ])\n",
    "# desired_learning_rate = 0.001\n",
    "\n",
    "# # Create an Adam optimizer instance with the desired learning rate\n",
    "# optimizer = Adagrad(learning_rate=desired_learning_rate)\n",
    "\n",
    "# # Compile the model with the customized optimizer\n",
    "# model.compile(loss='categorical_crossentropy', optimizer=optimizer, metrics=[\"accuracy\"])\n",
    "# early_stopping = EarlyStopping(patience=10,monitor='accuracy')\n",
    "# # Training (replace with your data)\n",
    "# model.fit(x_train, y_train, batch_size=batch_size, epochs=num_epochs, shuffle=True, validation_data=(x_dev, y_dev),\n",
    "#          callbacks = early_stopping, workers = 4)\n"
   ]
  },
  {
   "cell_type": "code",
   "execution_count": 23,
   "metadata": {},
   "outputs": [],
   "source": [
    "# from scikeras.wrappers import KerasRegressor,KerasClassifier\n",
    "# from sklearn.model_selection import GridSearchCV\n",
    "# from keras.models import Sequential\n",
    "# from keras.layers import LSTM, Dense, Embedding, Dropout\n",
    "# from keras.optimizers import Adam\n",
    "\n",
    "# num_classes=9\n",
    "# sequence_length=50\n",
    "# output_shape=(sequence_length,num_classes)\n",
    "\n",
    "# # Function to create the model\n",
    "# def create_model(units=128, dropout_rate=0.2, learning_rate=0.001):\n",
    "#     model = Sequential()\n",
    "#     model.add(Embedding(input_dim=num_tokens, output_dim=embedding_dim, input_length=sequence_length, trainable=False))\n",
    "#     model.add(LSTM(units=128, return_sequences=False))\n",
    "#     model.add(Dense(units=256, activation='relu', kernel_regularizer=regularizers.L1L2(l1=0.25, l2=0.25)))\n",
    "#     model.add(Dropout(0.2))\n",
    "#     model.add(Dense(num_classes*sequence_length, activation='softmax'))\n",
    "#     #model.add(tf.keras.layers.Reshape(output_shape))\n",
    "\n",
    "#     optimizer = Adam(learning_rate=learning_rate)\n",
    "#     model.compile(optimizer=optimizer, loss='categorical_crossentropy', metrics=['accuracy'])\n",
    "#     return model\n",
    "\n",
    "# # Create KerasClassifier\n",
    "# model = KerasRegressor(build_fn=create_model, epochs=5, batch_size=32, verbose=0)\n",
    "\n",
    "# # Define the grid search parameters\n",
    "# param_grid = {\n",
    "#     'model__units': [64, 128, 256,512],\n",
    "#     'model__dropout_rate': [0.1,0.2, 0.3, 0.4,0.5],\n",
    "#     'model__learning_rate': [0.001, 0.01, 0.1]\n",
    "# }\n",
    "\n",
    "# # Perform GridSearchCV\n",
    "# y_train_2d = y_train.reshape(y_train.shape[0], -1)\n",
    "# grid = GridSearchCV(estimator=model, param_grid=param_grid, cv=3, verbose=2)"
   ]
  },
  {
   "cell_type": "code",
   "execution_count": 24,
   "metadata": {},
   "outputs": [],
   "source": [
    "# grid_result = grid.fit(x_train,y_train_2d)\n",
    "\n",
    "# # Print the best parameters and the best accuracy\n",
    "# print(\"Best Parameters: \", grid_result.best_params_)\n",
    "# print(\"Best Accuracy: \", grid_result.best_score_)"
   ]
  },
  {
   "cell_type": "code",
   "execution_count": 37,
   "metadata": {},
   "outputs": [
    {
     "name": "stdout",
     "output_type": "stream",
     "text": [
      "Model: \"sequential_5\"\n",
      "_________________________________________________________________\n",
      " Layer (type)                Output Shape              Param #   \n",
      "=================================================================\n",
      " embedding_5 (Embedding)     (None, 50, 50)            150000100 \n",
      "                                                                 \n",
      " bidirectional_5 (Bidirecti  (None, 256)               183296    \n",
      " onal)                                                           \n",
      "                                                                 \n",
      " batch_normalization_5 (Bat  (None, 256)               1024      \n",
      " chNormalization)                                                \n",
      "                                                                 \n",
      " dropout_5 (Dropout)         (None, 256)               0         \n",
      "                                                                 \n",
      " dense_10 (Dense)            (None, 512)               131584    \n",
      "                                                                 \n",
      " dense_11 (Dense)            (None, 450)               230850    \n",
      "                                                                 \n",
      " reshape_5 (Reshape)         (None, 50, 9)             0         \n",
      "                                                                 \n",
      "=================================================================\n",
      "Total params: 150546854 (574.29 MB)\n",
      "Trainable params: 546242 (2.08 MB)\n",
      "Non-trainable params: 150000612 (572.21 MB)\n",
      "_________________________________________________________________\n"
     ]
    }
   ],
   "source": [
    "from tensorflow.keras.models import Sequential\n",
    "from keras.layers import LSTM, Dense, Embedding, Dropout,BatchNormalization,Bidirectional\n",
    "from keras.callbacks import EarlyStopping, ReduceLROnPlateau\n",
    "from keras.optimizers import Adam\n",
    "from sklearn.metrics import f1_score\n",
    "from seqeval.metrics import f1_score as seq_f1_score\n",
    "from tensorflow.keras.callbacks import Callback\n",
    "from seqeval.scheme import IOB1\n",
    "\n",
    "num_classes=9\n",
    "sequence_length=50\n",
    "output_shape=(sequence_length,num_classes)\n",
    "\n",
    "class F1ScoreCallback(Callback):\n",
    "    def __init__(self, validation_data,index_to_label):\n",
    "        super().__init__()\n",
    "        self.validation_data = validation_data\n",
    "        self.index_to_label=index_to_label\n",
    "\n",
    "    def on_epoch_end(self, epoch, logs=None):\n",
    "        # X_val, y_val = self.validation_data[0], self.validation_data[1]\n",
    "        # y_pred = self.model.predict(X_val)\n",
    "        \n",
    "        # y_true = tf.argmax(y_val, axis=-1)\n",
    "        # y_pred = tf.argmax(y_pred, axis=-1)\n",
    "\n",
    "        # y_true = y_true.numpy().reshape((-1, 1)).tolist()\n",
    "        # y_pred = y_pred.numpy().reshape((-1, 1)).tolist()\n",
    "\n",
    "        # f1 = f1_score(y_true, y_pred, average='weighted')\n",
    "        # print(f' - F1 Score: {f1}')\n",
    "        X_val, y_val = self.validation_data\n",
    "        y_pred = self.model.predict(X_val)\n",
    "        \n",
    "        y_true = self.convert_to_labels(y_val)\n",
    "        y_pred = self.convert_to_labels(y_pred)\n",
    "\n",
    "        f1 = seq_f1_score(y_true, y_pred, scheme=IOB1, average='weighted')\n",
    "        print(f' - F1 Score: {f1}')\n",
    "\n",
    "    def convert_to_labels(self, data):\n",
    "        labels = []\n",
    "        for seq in data:\n",
    "            label_seq = [self.index_to_label[np.argmax(token)] for token in seq]\n",
    "            labels.append(label_seq)\n",
    "        return labels\n",
    "\n",
    "   \n",
    "# Define and compile the model\n",
    "model = Sequential()\n",
    "model.add(Embedding(input_dim=num_tokens, output_dim=embedding_dim, input_length=sequence_length, trainable=False))\n",
    "model.add(Bidirectional(LSTM(units=128, return_sequences=False)))\n",
    "model.add(BatchNormalization())\n",
    "model.add(Dropout(0.3))\n",
    "model.add(Dense(units=512, activation='relu', kernel_regularizer=regularizers.L1L2(l1=0.25, l2=0.25)))\n",
    "model.add(Dense(num_classes*sequence_length, activation='softmax'))\n",
    "model.add(tf.keras.layers.Reshape(output_shape))\n",
    "\n",
    "optimizer = Adam(learning_rate=0.01)\n",
    "model.compile(optimizer=optimizer, loss='categorical_crossentropy', metrics=['accuracy'])\n",
    "class_weights={\n",
    "    0:15502.18,      #'B-LOC',\n",
    "    1:4872.11,     #'B-MISC',\n",
    "    2:7105.16,      #'B-ORG',\n",
    "    3:20.57,      #'I-LOC',\n",
    "    4:37.41,      #'I-MISC',\n",
    "    5:17.05,      #'I-ORG',\n",
    "    6:15.32,      #'I-PER',\n",
    "    7:1,      #'O',\n",
    "    8:1      #'<PAD>'\n",
    "}\n",
    "# Implement callbacks\n",
    "f1_callback = F1ScoreCallback(validation_data=(x_dev, y_dev),index_to_label=index_to_label)\n",
    "early_stopping = EarlyStopping(patience=10, monitor='val_loss', restore_best_weights=True)\n",
    "lr_scheduler = ReduceLROnPlateau(monitor='val_loss', factor=0.1, patience=3)\n",
    "\n",
    "model.summary()"
   ]
  },
  {
   "cell_type": "code",
   "execution_count": 38,
   "metadata": {},
   "outputs": [
    {
     "name": "stdout",
     "output_type": "stream",
     "text": [
      "Epoch 1/20\n",
      "109/109 [==============================] - 3s 19ms/step\n"
     ]
    },
    {
     "name": "stderr",
     "output_type": "stream",
     "text": [
      "c:\\msys64\\mingw64\\bin\\Lib\\site-packages\\seqeval\\metrics\\sequence_labeling.py:171: UserWarning: <PAD> seems not to be NE tag.\n",
      "  warnings.warn('{} seems not to be NE tag.'.format(chunk))\n"
     ]
    },
    {
     "name": "stdout",
     "output_type": "stream",
     "text": [
      " - F1 Score: 0.03913393060085177\n",
      "15/15 [==============================] - 25s 1s/step - loss: 538.3945 - accuracy: 0.6558 - val_loss: 216.2276 - val_accuracy: 0.6714 - lr: 0.0100\n",
      "Epoch 2/20\n",
      "109/109 [==============================] - 2s 19ms/step\n",
      " - F1 Score: 0.029651788772593002\n",
      "15/15 [==============================] - 20s 1s/step - loss: 138.8323 - accuracy: 0.7148 - val_loss: 87.2175 - val_accuracy: 0.6686 - lr: 0.0100\n",
      "Epoch 3/20\n",
      "109/109 [==============================] - 2s 20ms/step\n",
      " - F1 Score: 0.02772534976144367\n",
      "15/15 [==============================] - 20s 1s/step - loss: 70.9766 - accuracy: 0.7096 - val_loss: 53.5745 - val_accuracy: 0.6550 - lr: 0.0100\n",
      "Epoch 4/20\n",
      "109/109 [==============================] - 2s 19ms/step\n",
      " - F1 Score: 0.029782490725653678\n",
      "15/15 [==============================] - 20s 1s/step - loss: 51.5237 - accuracy: 0.7413 - val_loss: 45.3422 - val_accuracy: 0.6668 - lr: 0.0100\n",
      "Epoch 5/20\n",
      "109/109 [==============================] - 2s 20ms/step\n",
      " - F1 Score: 0.024628884701075885\n",
      "15/15 [==============================] - 20s 1s/step - loss: 48.6271 - accuracy: 0.6699 - val_loss: 46.7598 - val_accuracy: 0.5078 - lr: 0.0100\n",
      "Epoch 6/20\n",
      "109/109 [==============================] - 3s 25ms/step\n",
      " - F1 Score: 0.0270235644865823\n",
      "15/15 [==============================] - 22s 1s/step - loss: 47.2495 - accuracy: 0.6783 - val_loss: 43.6461 - val_accuracy: 0.6535 - lr: 0.0100\n",
      "Epoch 7/20\n",
      "109/109 [==============================] - 2s 18ms/step\n",
      " - F1 Score: 0.018997384188154245\n",
      "15/15 [==============================] - 20s 1s/step - loss: 46.6960 - accuracy: 0.6530 - val_loss: 44.2816 - val_accuracy: 0.6185 - lr: 0.0100\n",
      "Epoch 8/20\n",
      "109/109 [==============================] - 2s 20ms/step\n",
      " - F1 Score: 0.03413366998167083\n",
      "15/15 [==============================] - 22s 2s/step - loss: 45.5663 - accuracy: 0.6355 - val_loss: 41.6785 - val_accuracy: 0.6691 - lr: 0.0100\n",
      "Epoch 9/20\n",
      " 2/15 [===>..........................] - ETA: 17s - loss: 44.0215 - accuracy: 0.6877"
     ]
    },
    {
     "ename": "KeyboardInterrupt",
     "evalue": "",
     "output_type": "error",
     "traceback": [
      "\u001b[1;31m---------------------------------------------------------------------------\u001b[0m",
      "\u001b[1;31mKeyboardInterrupt\u001b[0m                         Traceback (most recent call last)",
      "\u001b[1;32mc:\\Users\\sasha\\Desktop\\NLP_Assignment\\part1\\part1.ipynb Cell 29\u001b[0m line \u001b[0;36m4\n\u001b[0;32m      <a href='vscode-notebook-cell:/c%3A/Users/sasha/Desktop/NLP_Assignment/part1/part1.ipynb#X40sZmlsZQ%3D%3D?line=0'>1</a>\u001b[0m num_epochs \u001b[39m=\u001b[39m \u001b[39m20\u001b[39m\n\u001b[0;32m      <a href='vscode-notebook-cell:/c%3A/Users/sasha/Desktop/NLP_Assignment/part1/part1.ipynb#X40sZmlsZQ%3D%3D?line=1'>2</a>\u001b[0m batch_size \u001b[39m=\u001b[39m \u001b[39m1024\u001b[39m\n\u001b[1;32m----> <a href='vscode-notebook-cell:/c%3A/Users/sasha/Desktop/NLP_Assignment/part1/part1.ipynb#X40sZmlsZQ%3D%3D?line=3'>4</a>\u001b[0m model\u001b[39m.\u001b[39;49mfit(x_train, y_train, batch_size\u001b[39m=\u001b[39;49mbatch_size, shuffle\u001b[39m=\u001b[39;49m\u001b[39mTrue\u001b[39;49;00m, epochs\u001b[39m=\u001b[39;49mnum_epochs, validation_data\u001b[39m=\u001b[39;49m(x_dev, y_dev), callbacks\u001b[39m=\u001b[39;49m[early_stopping,f1_callback, lr_scheduler], class_weight\u001b[39m=\u001b[39;49mclass_weights)\n\u001b[0;32m      <a href='vscode-notebook-cell:/c%3A/Users/sasha/Desktop/NLP_Assignment/part1/part1.ipynb#X40sZmlsZQ%3D%3D?line=6'>7</a>\u001b[0m \u001b[39m# model.fit(x_train, y_train, batch_size=batch_size, epochs=num_epochs, shuffle=True, validation_data=(x_dev, y_dev),\u001b[39;00m\n\u001b[0;32m      <a href='vscode-notebook-cell:/c%3A/Users/sasha/Desktop/NLP_Assignment/part1/part1.ipynb#X40sZmlsZQ%3D%3D?line=7'>8</a>\u001b[0m \u001b[39m#          callbacks = early_stopping, workers = 4)\u001b[39;00m\n",
      "File \u001b[1;32mc:\\msys64\\mingw64\\bin\\Lib\\site-packages\\keras\\src\\utils\\traceback_utils.py:65\u001b[0m, in \u001b[0;36mfilter_traceback.<locals>.error_handler\u001b[1;34m(*args, **kwargs)\u001b[0m\n\u001b[0;32m     63\u001b[0m filtered_tb \u001b[39m=\u001b[39m \u001b[39mNone\u001b[39;00m\n\u001b[0;32m     64\u001b[0m \u001b[39mtry\u001b[39;00m:\n\u001b[1;32m---> 65\u001b[0m     \u001b[39mreturn\u001b[39;00m fn(\u001b[39m*\u001b[39;49margs, \u001b[39m*\u001b[39;49m\u001b[39m*\u001b[39;49mkwargs)\n\u001b[0;32m     66\u001b[0m \u001b[39mexcept\u001b[39;00m \u001b[39mException\u001b[39;00m \u001b[39mas\u001b[39;00m e:\n\u001b[0;32m     67\u001b[0m     filtered_tb \u001b[39m=\u001b[39m _process_traceback_frames(e\u001b[39m.\u001b[39m__traceback__)\n",
      "File \u001b[1;32mc:\\msys64\\mingw64\\bin\\Lib\\site-packages\\keras\\src\\engine\\training.py:1783\u001b[0m, in \u001b[0;36mModel.fit\u001b[1;34m(self, x, y, batch_size, epochs, verbose, callbacks, validation_split, validation_data, shuffle, class_weight, sample_weight, initial_epoch, steps_per_epoch, validation_steps, validation_batch_size, validation_freq, max_queue_size, workers, use_multiprocessing)\u001b[0m\n\u001b[0;32m   1775\u001b[0m \u001b[39mwith\u001b[39;00m tf\u001b[39m.\u001b[39mprofiler\u001b[39m.\u001b[39mexperimental\u001b[39m.\u001b[39mTrace(\n\u001b[0;32m   1776\u001b[0m     \u001b[39m\"\u001b[39m\u001b[39mtrain\u001b[39m\u001b[39m\"\u001b[39m,\n\u001b[0;32m   1777\u001b[0m     epoch_num\u001b[39m=\u001b[39mepoch,\n\u001b[1;32m   (...)\u001b[0m\n\u001b[0;32m   1780\u001b[0m     _r\u001b[39m=\u001b[39m\u001b[39m1\u001b[39m,\n\u001b[0;32m   1781\u001b[0m ):\n\u001b[0;32m   1782\u001b[0m     callbacks\u001b[39m.\u001b[39mon_train_batch_begin(step)\n\u001b[1;32m-> 1783\u001b[0m     tmp_logs \u001b[39m=\u001b[39m \u001b[39mself\u001b[39;49m\u001b[39m.\u001b[39;49mtrain_function(iterator)\n\u001b[0;32m   1784\u001b[0m     \u001b[39mif\u001b[39;00m data_handler\u001b[39m.\u001b[39mshould_sync:\n\u001b[0;32m   1785\u001b[0m         context\u001b[39m.\u001b[39masync_wait()\n",
      "File \u001b[1;32mc:\\msys64\\mingw64\\bin\\Lib\\site-packages\\tensorflow\\python\\util\\traceback_utils.py:150\u001b[0m, in \u001b[0;36mfilter_traceback.<locals>.error_handler\u001b[1;34m(*args, **kwargs)\u001b[0m\n\u001b[0;32m    148\u001b[0m filtered_tb \u001b[39m=\u001b[39m \u001b[39mNone\u001b[39;00m\n\u001b[0;32m    149\u001b[0m \u001b[39mtry\u001b[39;00m:\n\u001b[1;32m--> 150\u001b[0m   \u001b[39mreturn\u001b[39;00m fn(\u001b[39m*\u001b[39;49margs, \u001b[39m*\u001b[39;49m\u001b[39m*\u001b[39;49mkwargs)\n\u001b[0;32m    151\u001b[0m \u001b[39mexcept\u001b[39;00m \u001b[39mException\u001b[39;00m \u001b[39mas\u001b[39;00m e:\n\u001b[0;32m    152\u001b[0m   filtered_tb \u001b[39m=\u001b[39m _process_traceback_frames(e\u001b[39m.\u001b[39m__traceback__)\n",
      "File \u001b[1;32mc:\\msys64\\mingw64\\bin\\Lib\\site-packages\\tensorflow\\python\\eager\\polymorphic_function\\polymorphic_function.py:831\u001b[0m, in \u001b[0;36mFunction.__call__\u001b[1;34m(self, *args, **kwds)\u001b[0m\n\u001b[0;32m    828\u001b[0m compiler \u001b[39m=\u001b[39m \u001b[39m\"\u001b[39m\u001b[39mxla\u001b[39m\u001b[39m\"\u001b[39m \u001b[39mif\u001b[39;00m \u001b[39mself\u001b[39m\u001b[39m.\u001b[39m_jit_compile \u001b[39melse\u001b[39;00m \u001b[39m\"\u001b[39m\u001b[39mnonXla\u001b[39m\u001b[39m\"\u001b[39m\n\u001b[0;32m    830\u001b[0m \u001b[39mwith\u001b[39;00m OptionalXlaContext(\u001b[39mself\u001b[39m\u001b[39m.\u001b[39m_jit_compile):\n\u001b[1;32m--> 831\u001b[0m   result \u001b[39m=\u001b[39m \u001b[39mself\u001b[39;49m\u001b[39m.\u001b[39;49m_call(\u001b[39m*\u001b[39;49margs, \u001b[39m*\u001b[39;49m\u001b[39m*\u001b[39;49mkwds)\n\u001b[0;32m    833\u001b[0m new_tracing_count \u001b[39m=\u001b[39m \u001b[39mself\u001b[39m\u001b[39m.\u001b[39mexperimental_get_tracing_count()\n\u001b[0;32m    834\u001b[0m without_tracing \u001b[39m=\u001b[39m (tracing_count \u001b[39m==\u001b[39m new_tracing_count)\n",
      "File \u001b[1;32mc:\\msys64\\mingw64\\bin\\Lib\\site-packages\\tensorflow\\python\\eager\\polymorphic_function\\polymorphic_function.py:867\u001b[0m, in \u001b[0;36mFunction._call\u001b[1;34m(self, *args, **kwds)\u001b[0m\n\u001b[0;32m    864\u001b[0m   \u001b[39mself\u001b[39m\u001b[39m.\u001b[39m_lock\u001b[39m.\u001b[39mrelease()\n\u001b[0;32m    865\u001b[0m   \u001b[39m# In this case we have created variables on the first call, so we run the\u001b[39;00m\n\u001b[0;32m    866\u001b[0m   \u001b[39m# defunned version which is guaranteed to never create variables.\u001b[39;00m\n\u001b[1;32m--> 867\u001b[0m   \u001b[39mreturn\u001b[39;00m tracing_compilation\u001b[39m.\u001b[39;49mcall_function(\n\u001b[0;32m    868\u001b[0m       args, kwds, \u001b[39mself\u001b[39;49m\u001b[39m.\u001b[39;49m_no_variable_creation_config\n\u001b[0;32m    869\u001b[0m   )\n\u001b[0;32m    870\u001b[0m \u001b[39melif\u001b[39;00m \u001b[39mself\u001b[39m\u001b[39m.\u001b[39m_variable_creation_config \u001b[39mis\u001b[39;00m \u001b[39mnot\u001b[39;00m \u001b[39mNone\u001b[39;00m:\n\u001b[0;32m    871\u001b[0m   \u001b[39m# Release the lock early so that multiple threads can perform the call\u001b[39;00m\n\u001b[0;32m    872\u001b[0m   \u001b[39m# in parallel.\u001b[39;00m\n\u001b[0;32m    873\u001b[0m   \u001b[39mself\u001b[39m\u001b[39m.\u001b[39m_lock\u001b[39m.\u001b[39mrelease()\n",
      "File \u001b[1;32mc:\\msys64\\mingw64\\bin\\Lib\\site-packages\\tensorflow\\python\\eager\\polymorphic_function\\tracing_compilation.py:139\u001b[0m, in \u001b[0;36mcall_function\u001b[1;34m(args, kwargs, tracing_options)\u001b[0m\n\u001b[0;32m    137\u001b[0m bound_args \u001b[39m=\u001b[39m function\u001b[39m.\u001b[39mfunction_type\u001b[39m.\u001b[39mbind(\u001b[39m*\u001b[39margs, \u001b[39m*\u001b[39m\u001b[39m*\u001b[39mkwargs)\n\u001b[0;32m    138\u001b[0m flat_inputs \u001b[39m=\u001b[39m function\u001b[39m.\u001b[39mfunction_type\u001b[39m.\u001b[39munpack_inputs(bound_args)\n\u001b[1;32m--> 139\u001b[0m \u001b[39mreturn\u001b[39;00m function\u001b[39m.\u001b[39;49m_call_flat(  \u001b[39m# pylint: disable=protected-access\u001b[39;49;00m\n\u001b[0;32m    140\u001b[0m     flat_inputs, captured_inputs\u001b[39m=\u001b[39;49mfunction\u001b[39m.\u001b[39;49mcaptured_inputs\n\u001b[0;32m    141\u001b[0m )\n",
      "File \u001b[1;32mc:\\msys64\\mingw64\\bin\\Lib\\site-packages\\tensorflow\\python\\eager\\polymorphic_function\\concrete_function.py:1264\u001b[0m, in \u001b[0;36mConcreteFunction._call_flat\u001b[1;34m(self, tensor_inputs, captured_inputs)\u001b[0m\n\u001b[0;32m   1260\u001b[0m possible_gradient_type \u001b[39m=\u001b[39m gradients_util\u001b[39m.\u001b[39mPossibleTapeGradientTypes(args)\n\u001b[0;32m   1261\u001b[0m \u001b[39mif\u001b[39;00m (possible_gradient_type \u001b[39m==\u001b[39m gradients_util\u001b[39m.\u001b[39mPOSSIBLE_GRADIENT_TYPES_NONE\n\u001b[0;32m   1262\u001b[0m     \u001b[39mand\u001b[39;00m executing_eagerly):\n\u001b[0;32m   1263\u001b[0m   \u001b[39m# No tape is watching; skip to running the function.\u001b[39;00m\n\u001b[1;32m-> 1264\u001b[0m   \u001b[39mreturn\u001b[39;00m \u001b[39mself\u001b[39;49m\u001b[39m.\u001b[39;49m_inference_function\u001b[39m.\u001b[39;49mflat_call(args)\n\u001b[0;32m   1265\u001b[0m forward_backward \u001b[39m=\u001b[39m \u001b[39mself\u001b[39m\u001b[39m.\u001b[39m_select_forward_and_backward_functions(\n\u001b[0;32m   1266\u001b[0m     args,\n\u001b[0;32m   1267\u001b[0m     possible_gradient_type,\n\u001b[0;32m   1268\u001b[0m     executing_eagerly)\n\u001b[0;32m   1269\u001b[0m forward_function, args_with_tangents \u001b[39m=\u001b[39m forward_backward\u001b[39m.\u001b[39mforward()\n",
      "File \u001b[1;32mc:\\msys64\\mingw64\\bin\\Lib\\site-packages\\tensorflow\\python\\eager\\polymorphic_function\\atomic_function.py:217\u001b[0m, in \u001b[0;36mAtomicFunction.flat_call\u001b[1;34m(self, args)\u001b[0m\n\u001b[0;32m    215\u001b[0m \u001b[39mdef\u001b[39;00m \u001b[39mflat_call\u001b[39m(\u001b[39mself\u001b[39m, args: Sequence[core\u001b[39m.\u001b[39mTensor]) \u001b[39m-\u001b[39m\u001b[39m>\u001b[39m Any:\n\u001b[0;32m    216\u001b[0m \u001b[39m  \u001b[39m\u001b[39m\"\"\"Calls with tensor inputs and returns the structured output.\"\"\"\u001b[39;00m\n\u001b[1;32m--> 217\u001b[0m   flat_outputs \u001b[39m=\u001b[39m \u001b[39mself\u001b[39;49m(\u001b[39m*\u001b[39;49margs)\n\u001b[0;32m    218\u001b[0m   \u001b[39mreturn\u001b[39;00m \u001b[39mself\u001b[39m\u001b[39m.\u001b[39mfunction_type\u001b[39m.\u001b[39mpack_output(flat_outputs)\n",
      "File \u001b[1;32mc:\\msys64\\mingw64\\bin\\Lib\\site-packages\\tensorflow\\python\\eager\\polymorphic_function\\atomic_function.py:252\u001b[0m, in \u001b[0;36mAtomicFunction.__call__\u001b[1;34m(self, *args)\u001b[0m\n\u001b[0;32m    250\u001b[0m \u001b[39mwith\u001b[39;00m record\u001b[39m.\u001b[39mstop_recording():\n\u001b[0;32m    251\u001b[0m   \u001b[39mif\u001b[39;00m \u001b[39mself\u001b[39m\u001b[39m.\u001b[39m_bound_context\u001b[39m.\u001b[39mexecuting_eagerly():\n\u001b[1;32m--> 252\u001b[0m     outputs \u001b[39m=\u001b[39m \u001b[39mself\u001b[39;49m\u001b[39m.\u001b[39;49m_bound_context\u001b[39m.\u001b[39;49mcall_function(\n\u001b[0;32m    253\u001b[0m         \u001b[39mself\u001b[39;49m\u001b[39m.\u001b[39;49mname,\n\u001b[0;32m    254\u001b[0m         \u001b[39mlist\u001b[39;49m(args),\n\u001b[0;32m    255\u001b[0m         \u001b[39mlen\u001b[39;49m(\u001b[39mself\u001b[39;49m\u001b[39m.\u001b[39;49mfunction_type\u001b[39m.\u001b[39;49mflat_outputs),\n\u001b[0;32m    256\u001b[0m     )\n\u001b[0;32m    257\u001b[0m   \u001b[39melse\u001b[39;00m:\n\u001b[0;32m    258\u001b[0m     outputs \u001b[39m=\u001b[39m make_call_op_in_graph(\n\u001b[0;32m    259\u001b[0m         \u001b[39mself\u001b[39m,\n\u001b[0;32m    260\u001b[0m         \u001b[39mlist\u001b[39m(args),\n\u001b[0;32m    261\u001b[0m         \u001b[39mself\u001b[39m\u001b[39m.\u001b[39m_bound_context\u001b[39m.\u001b[39mfunction_call_options\u001b[39m.\u001b[39mas_attrs(),\n\u001b[0;32m    262\u001b[0m     )\n",
      "File \u001b[1;32mc:\\msys64\\mingw64\\bin\\Lib\\site-packages\\tensorflow\\python\\eager\\context.py:1479\u001b[0m, in \u001b[0;36mContext.call_function\u001b[1;34m(self, name, tensor_inputs, num_outputs)\u001b[0m\n\u001b[0;32m   1477\u001b[0m cancellation_context \u001b[39m=\u001b[39m cancellation\u001b[39m.\u001b[39mcontext()\n\u001b[0;32m   1478\u001b[0m \u001b[39mif\u001b[39;00m cancellation_context \u001b[39mis\u001b[39;00m \u001b[39mNone\u001b[39;00m:\n\u001b[1;32m-> 1479\u001b[0m   outputs \u001b[39m=\u001b[39m execute\u001b[39m.\u001b[39;49mexecute(\n\u001b[0;32m   1480\u001b[0m       name\u001b[39m.\u001b[39;49mdecode(\u001b[39m\"\u001b[39;49m\u001b[39mutf-8\u001b[39;49m\u001b[39m\"\u001b[39;49m),\n\u001b[0;32m   1481\u001b[0m       num_outputs\u001b[39m=\u001b[39;49mnum_outputs,\n\u001b[0;32m   1482\u001b[0m       inputs\u001b[39m=\u001b[39;49mtensor_inputs,\n\u001b[0;32m   1483\u001b[0m       attrs\u001b[39m=\u001b[39;49mattrs,\n\u001b[0;32m   1484\u001b[0m       ctx\u001b[39m=\u001b[39;49m\u001b[39mself\u001b[39;49m,\n\u001b[0;32m   1485\u001b[0m   )\n\u001b[0;32m   1486\u001b[0m \u001b[39melse\u001b[39;00m:\n\u001b[0;32m   1487\u001b[0m   outputs \u001b[39m=\u001b[39m execute\u001b[39m.\u001b[39mexecute_with_cancellation(\n\u001b[0;32m   1488\u001b[0m       name\u001b[39m.\u001b[39mdecode(\u001b[39m\"\u001b[39m\u001b[39mutf-8\u001b[39m\u001b[39m\"\u001b[39m),\n\u001b[0;32m   1489\u001b[0m       num_outputs\u001b[39m=\u001b[39mnum_outputs,\n\u001b[1;32m   (...)\u001b[0m\n\u001b[0;32m   1493\u001b[0m       cancellation_manager\u001b[39m=\u001b[39mcancellation_context,\n\u001b[0;32m   1494\u001b[0m   )\n",
      "File \u001b[1;32mc:\\msys64\\mingw64\\bin\\Lib\\site-packages\\tensorflow\\python\\eager\\execute.py:60\u001b[0m, in \u001b[0;36mquick_execute\u001b[1;34m(op_name, num_outputs, inputs, attrs, ctx, name)\u001b[0m\n\u001b[0;32m     53\u001b[0m   \u001b[39m# Convert any objects of type core_types.Tensor to Tensor.\u001b[39;00m\n\u001b[0;32m     54\u001b[0m   inputs \u001b[39m=\u001b[39m [\n\u001b[0;32m     55\u001b[0m       tensor_conversion_registry\u001b[39m.\u001b[39mconvert(t)\n\u001b[0;32m     56\u001b[0m       \u001b[39mif\u001b[39;00m \u001b[39misinstance\u001b[39m(t, core_types\u001b[39m.\u001b[39mTensor)\n\u001b[0;32m     57\u001b[0m       \u001b[39melse\u001b[39;00m t\n\u001b[0;32m     58\u001b[0m       \u001b[39mfor\u001b[39;00m t \u001b[39min\u001b[39;00m inputs\n\u001b[0;32m     59\u001b[0m   ]\n\u001b[1;32m---> 60\u001b[0m   tensors \u001b[39m=\u001b[39m pywrap_tfe\u001b[39m.\u001b[39;49mTFE_Py_Execute(ctx\u001b[39m.\u001b[39;49m_handle, device_name, op_name,\n\u001b[0;32m     61\u001b[0m                                       inputs, attrs, num_outputs)\n\u001b[0;32m     62\u001b[0m \u001b[39mexcept\u001b[39;00m core\u001b[39m.\u001b[39m_NotOkStatusException \u001b[39mas\u001b[39;00m e:\n\u001b[0;32m     63\u001b[0m   \u001b[39mif\u001b[39;00m name \u001b[39mis\u001b[39;00m \u001b[39mnot\u001b[39;00m \u001b[39mNone\u001b[39;00m:\n",
      "\u001b[1;31mKeyboardInterrupt\u001b[0m: "
     ]
    }
   ],
   "source": [
    "\n",
    "\n",
    "num_epochs = 20\n",
    "batch_size = 1024\n",
    "\n",
    "model.fit(x_train, y_train, batch_size=batch_size, shuffle=True, epochs=num_epochs, validation_data=(x_dev, y_dev), callbacks=[early_stopping,f1_callback, lr_scheduler], class_weight=class_weights)\n",
    "\n",
    "\n",
    "# model.fit(x_train, y_train, batch_size=batch_size, epochs=num_epochs, shuffle=True, validation_data=(x_dev, y_dev),\n",
    "#          callbacks = early_stopping, workers = 4)"
   ]
  },
  {
   "cell_type": "code",
   "execution_count": 39,
   "metadata": {},
   "outputs": [
    {
     "name": "stdout",
     "output_type": "stream",
     "text": [
      "116/116 [==============================] - 2s 16ms/step\n",
      "(3684, 50, 9)\n",
      "(3684, 50, 9)\n"
     ]
    },
    {
     "ename": "TypeError",
     "evalue": "unhashable type: 'numpy.ndarray'",
     "output_type": "error",
     "traceback": [
      "\u001b[1;31m---------------------------------------------------------------------------\u001b[0m",
      "\u001b[1;31mTypeError\u001b[0m                                 Traceback (most recent call last)",
      "\u001b[1;32mc:\\Users\\sasha\\Desktop\\NLP_Assignment\\part1\\part1.ipynb Cell 30\u001b[0m line \u001b[0;36m2\n\u001b[0;32m     <a href='vscode-notebook-cell:/c%3A/Users/sasha/Desktop/NLP_Assignment/part1/part1.ipynb#X41sZmlsZQ%3D%3D?line=21'>22</a>\u001b[0m     predicted_label_sequences\u001b[39m.\u001b[39mappend(decoded_sequence)\n\u001b[0;32m     <a href='vscode-notebook-cell:/c%3A/Users/sasha/Desktop/NLP_Assignment/part1/part1.ipynb#X41sZmlsZQ%3D%3D?line=22'>23</a>\u001b[0m \u001b[39mfor\u001b[39;00m sequence \u001b[39min\u001b[39;00m y_test:\n\u001b[0;32m     <a href='vscode-notebook-cell:/c%3A/Users/sasha/Desktop/NLP_Assignment/part1/part1.ipynb#X41sZmlsZQ%3D%3D?line=23'>24</a>\u001b[0m     \u001b[39m# Decode the true labels for each sequence\u001b[39;00m\n\u001b[1;32m---> <a href='vscode-notebook-cell:/c%3A/Users/sasha/Desktop/NLP_Assignment/part1/part1.ipynb#X41sZmlsZQ%3D%3D?line=24'>25</a>\u001b[0m     decoded_sequence \u001b[39m=\u001b[39m [index_to_label[label] \u001b[39mfor\u001b[39;49;00m label \u001b[39min\u001b[39;49;00m sequence]\n\u001b[0;32m     <a href='vscode-notebook-cell:/c%3A/Users/sasha/Desktop/NLP_Assignment/part1/part1.ipynb#X41sZmlsZQ%3D%3D?line=25'>26</a>\u001b[0m     true_label_sequences\u001b[39m.\u001b[39mappend(decoded_sequence)\n\u001b[0;32m     <a href='vscode-notebook-cell:/c%3A/Users/sasha/Desktop/NLP_Assignment/part1/part1.ipynb#X41sZmlsZQ%3D%3D?line=26'>27</a>\u001b[0m \u001b[39mprint\u001b[39m(predicted_label_sequences)\n",
      "\u001b[1;32mc:\\Users\\sasha\\Desktop\\NLP_Assignment\\part1\\part1.ipynb Cell 30\u001b[0m line \u001b[0;36m2\n\u001b[0;32m     <a href='vscode-notebook-cell:/c%3A/Users/sasha/Desktop/NLP_Assignment/part1/part1.ipynb#X41sZmlsZQ%3D%3D?line=21'>22</a>\u001b[0m     predicted_label_sequences\u001b[39m.\u001b[39mappend(decoded_sequence)\n\u001b[0;32m     <a href='vscode-notebook-cell:/c%3A/Users/sasha/Desktop/NLP_Assignment/part1/part1.ipynb#X41sZmlsZQ%3D%3D?line=22'>23</a>\u001b[0m \u001b[39mfor\u001b[39;00m sequence \u001b[39min\u001b[39;00m y_test:\n\u001b[0;32m     <a href='vscode-notebook-cell:/c%3A/Users/sasha/Desktop/NLP_Assignment/part1/part1.ipynb#X41sZmlsZQ%3D%3D?line=23'>24</a>\u001b[0m     \u001b[39m# Decode the true labels for each sequence\u001b[39;00m\n\u001b[1;32m---> <a href='vscode-notebook-cell:/c%3A/Users/sasha/Desktop/NLP_Assignment/part1/part1.ipynb#X41sZmlsZQ%3D%3D?line=24'>25</a>\u001b[0m     decoded_sequence \u001b[39m=\u001b[39m [index_to_label[label] \u001b[39mfor\u001b[39;00m label \u001b[39min\u001b[39;00m sequence]\n\u001b[0;32m     <a href='vscode-notebook-cell:/c%3A/Users/sasha/Desktop/NLP_Assignment/part1/part1.ipynb#X41sZmlsZQ%3D%3D?line=25'>26</a>\u001b[0m     true_label_sequences\u001b[39m.\u001b[39mappend(decoded_sequence)\n\u001b[0;32m     <a href='vscode-notebook-cell:/c%3A/Users/sasha/Desktop/NLP_Assignment/part1/part1.ipynb#X41sZmlsZQ%3D%3D?line=26'>27</a>\u001b[0m \u001b[39mprint\u001b[39m(predicted_label_sequences)\n",
      "\u001b[1;31mTypeError\u001b[0m: unhashable type: 'numpy.ndarray'"
     ]
    }
   ],
   "source": [
    "from sklearn.metrics import f1_score\n",
    "\n",
    "# y_pred = model.predict(x_test)        \n",
    "# y_true = tf.argmax(y_test, axis=-1)\n",
    "# y_pred = tf.argmax(y_pred, axis=-1)\n",
    "\n",
    "# y_true = y_true.numpy().reshape((-1, 1)).tolist()\n",
    "# y_pred = y_pred.numpy().reshape((-1, 1)).tolist()\n",
    "\n",
    "# f1 = f1_score(y_true, y_pred, average='weighted')\n",
    "# print(f' - F1 Score: {f1}')\n",
    "predictions = model.predict(x_test)\n",
    "print(predictions.shape)\n",
    "print(y_test.shape)\n",
    "# predictions = predictions.reshape(-1, sequence_length, num_classes)  # Reshape predictions to match the sequence_length\n",
    "# true_labels = y_test.reshape(-1, sequence_length, num_classes)  # Reshape true labels similarly\n",
    "predicted_label_sequences = []  # List to store predicted label sequences\n",
    "true_label_sequences = []  # List to store true label sequences\n",
    "for sequence in predictions:\n",
    "    # Decode the predicted labels for each sequence\n",
    "    decoded_sequence = [index_to_label[np.argmax(label,axis=-1)] for label in sequence]\n",
    "    predicted_label_sequences.append(decoded_sequence)\n",
    "for sequence in y_test:\n",
    "    # Decode the true labels for each sequence\n",
    "    decoded_sequence = [index_to_label[np.argmax(label,axis=-1)] for label in sequence]\n",
    "    true_label_sequences.append(decoded_sequence)\n",
    "print(predicted_label_sequences)\n",
    "print(true_label_sequences)\n",
    "f1 = seq_f1_score(true_label_sequences, predicted_label_sequences, scheme=IOB1, average='weighted')\n",
    "print(\"F1 Score:\", f1)"
   ]
  },
  {
   "cell_type": "code",
   "execution_count": 28,
   "metadata": {},
   "outputs": [
    {
     "name": "stdout",
     "output_type": "stream",
     "text": [
      "116/116 [==============================] - 5s 20ms/step - loss: 1533.6508 - accuracy: 0.1206\n",
      "Test Loss: 1533.6507568359375, Test Accuracy: 0.12062975019216537\n"
     ]
    }
   ],
   "source": [
    "loss, accuracy = model.evaluate(x_test, y_test)\n",
    "print(f'Test Loss: {loss}, Test Accuracy: {accuracy}')\n"
   ]
  },
  {
   "cell_type": "code",
   "execution_count": null,
   "metadata": {},
   "outputs": [],
   "source": []
  },
  {
   "cell_type": "code",
   "execution_count": null,
   "metadata": {},
   "outputs": [],
   "source": []
  }
 ],
 "metadata": {
  "kernelspec": {
   "display_name": "Python 3",
   "language": "python",
   "name": "python3"
  },
  "language_info": {
   "codemirror_mode": {
    "name": "ipython",
    "version": 3
   },
   "file_extension": ".py",
   "mimetype": "text/x-python",
   "name": "python",
   "nbconvert_exporter": "python",
   "pygments_lexer": "ipython3",
   "version": "3.11.0"
  }
 },
 "nbformat": 4,
 "nbformat_minor": 2
}
