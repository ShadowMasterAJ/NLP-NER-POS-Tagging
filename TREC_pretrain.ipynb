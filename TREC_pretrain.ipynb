{
 "cells": [
  {
   "cell_type": "code",
   "execution_count": 2,
   "metadata": {},
   "outputs": [],
   "source": [
    "from gensim.models import Word2Vec\n",
    "import pandas as pd"
   ]
  },
  {
   "cell_type": "code",
   "execution_count": 8,
   "metadata": {},
   "outputs": [
    {
     "data": {
      "text/plain": [
       "5452"
      ]
     },
     "execution_count": 8,
     "metadata": {},
     "output_type": "execute_result"
    }
   ],
   "source": [
    "path = 'TREC_dataset/og_data/train.csv'\n",
    "df = pd.read_csv(path)\n",
    "len(df)"
   ]
  },
  {
   "cell_type": "code",
   "execution_count": 6,
   "metadata": {},
   "outputs": [
    {
     "name": "stdout",
     "output_type": "stream",
     "text": [
      "['How', 'did', 'serfdom', 'develop', 'in', 'and', 'then', 'leave', 'Russia', '?']\n",
      "['What', 'films', 'featured', 'the', 'character', 'Popeye', 'Doyle', '?']\n",
      "['How', 'can', 'I', 'find', 'a', 'list', 'of', 'celebrities', \"'\", 'real', 'names', '?']\n",
      "['What', 'fowl', 'grabs', 'the', 'spotlight', 'after', 'the', 'Chinese', 'Year', 'of', 'the', 'Monkey', '?']\n",
      "['What', 'is', 'the', 'full', 'form', 'of', '.com', '?']\n",
      "['What', 'contemptible', 'scoundrel', 'stole', 'the', 'cork', 'from', 'my', 'lunch', '?']\n",
      "['What', 'team', 'did', 'baseball', \"'s\", 'St.', 'Louis', 'Browns', 'become', '?']\n",
      "['What', 'is', 'the', 'oldest', 'profession', '?']\n",
      "['What', 'are', 'liver', 'enzymes', '?']\n",
      "['Name', 'the', 'scar-faced', 'bounty', 'hunter', 'of', 'The', 'Old', 'West', '.']\n"
     ]
    }
   ],
   "source": [
    "sentences = [t.split() for t in df['text'].tolist()]\n",
    "\n",
    "for s in sentences[:10]: print(s)"
   ]
  },
  {
   "cell_type": "code",
   "execution_count": 9,
   "metadata": {},
   "outputs": [],
   "source": [
    "w2v_model = Word2Vec(sentences, vector_size=150, window=5, min_count=1, sg=0)\n",
    "w2v_model.save('models/pretrained/TREC_w2v_pretrain.model')"
   ]
  },
  {
   "cell_type": "code",
   "execution_count": null,
   "metadata": {},
   "outputs": [],
   "source": []
  }
 ],
 "metadata": {
  "kernelspec": {
   "display_name": "Python 3",
   "language": "python",
   "name": "python3"
  },
  "language_info": {
   "codemirror_mode": {
    "name": "ipython",
    "version": 3
   },
   "file_extension": ".py",
   "mimetype": "text/x-python",
   "name": "python",
   "nbconvert_exporter": "python",
   "pygments_lexer": "ipython3",
   "version": "3.10.13"
  }
 },
 "nbformat": 4,
 "nbformat_minor": 2
}
